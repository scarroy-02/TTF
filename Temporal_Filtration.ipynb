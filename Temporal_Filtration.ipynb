{
  "cells": [
    {
      "cell_type": "markdown",
      "metadata": {
        "id": "tVX-HQwMDlAd"
      },
      "source": [
        "## Making a suitable data structure for temporal graphs\n",
        "\n",
        "Class `TGraph` is as follows. Needs refinement with weight calculation."
      ]
    },
    {
      "cell_type": "code",
      "execution_count": null,
      "metadata": {
        "id": "QIrqvt_eBsmD"
      },
      "outputs": [],
      "source": [
        "import math\n",
        "import numpy as np\n",
        "from collections import defaultdict\n",
        "from tabulate import tabulate"
      ]
    },
    {
      "cell_type": "code",
      "execution_count": null,
      "metadata": {
        "id": "wDPj3JnmClgU"
      },
      "outputs": [],
      "source": [
        "class TGraph:\n",
        "    def __init__(self):\n",
        "        self.graph = defaultdict(list)\n",
        "\n",
        "    # This definition is for the undirected case, this is just to compute the weights of the edges.\n",
        "    def addEdge(self,u,v,t):\n",
        "        self.graph[u].append((v,t))\n",
        "        self.graph[v].append((u,t))\n",
        "    # Ok the above doesn't work (its not that simple)\n",
        "\n",
        "    # If the edges are keys, easier to compute weights, but the complexity is O(|E|^2)\n",
        "\n",
        "    def addEdgedict(self,u,v,t,wt = np.inf):\n",
        "        self.graph[(u,v)] = [t,wt]\n",
        "\n",
        "    def getAdjacent(self,edge):\n",
        "        adj_edges = []\n",
        "        (u,v) = edge\n",
        "        for e in self.graph.keys():\n",
        "            if u in e or v in e:\n",
        "                if (u,v) == e: continue\n",
        "                adj_edges.append(e)\n",
        "        return adj_edges\n",
        "\n",
        "    def assignWeights(self):\n",
        "        # queue = []\n",
        "        # queue.append(s)\n",
        "        # self.visited.append(s)\n",
        "\n",
        "        # while queue:\n",
        "        #     s = queue.pop(0)\n",
        "\n",
        "        #     for i in self.graph[s]:\n",
        "        #         # edge = (s,i[0])\n",
        "        #         for j in self.graph[i[0]]:\n",
        "        #             if j[0] == s: continue\n",
        "        #             # edge = (i[0],j[0])\n",
        "        #             if i[2] > abs(i[1]-j[1]):\n",
        "        #                 i[2] = abs(i[1]-j[1])\n",
        "\n",
        "        for edge in self.graph.keys():\n",
        "            adj_edges = self.getAdjacent(edge)\n",
        "            for adj in adj_edges:\n",
        "                if self.graph[edge][1] > abs(self.graph[edge][0] - self.graph[adj][0]):\n",
        "                    self.graph[edge][1] = abs(self.graph[edge][0] - self.graph[adj][0])\n",
        "\n",
        "        # this works fine, but the complexity is more in this case.\n",
        "\n",
        "    def assignWeights_list(self):\n",
        "        wt_dict = {}\n",
        "        for edge in self.graph.keys():\n",
        "            for nbr_edge, time_label in self.graph[edge]:\n",
        "                wt_dict[(edge,nbr_edge)] = np.inf\n",
        "                for nbr_edge1, nbr_time in (list(self.graph[nbr_edge]) + list(self.graph[edge])):\n",
        "                    if nbr_edge1 == nbr_edge: continue\n",
        "                    if wt_dict[(edge,nbr_edge)] > abs(time_label - nbr_time):\n",
        "                        wt_dict[(edge,nbr_edge)] = abs(time_label - nbr_time)\n",
        "        return wt_dict\n",
        "\n",
        "    # problem with adjacency list, sense of direction also there, so can't normally get the adjacent edges. Will have to somehow incorporate the bidirectional adjacent edges to compute the weights.\n",
        "\n",
        "\n",
        "    def __str__(self) -> str:\n",
        "        # wt_dict = self.assignWeights_list()\n",
        "        # for vert in self.graph.keys():\n",
        "        #     for nbr in self.graph[vert]:\n",
        "        #         print(f\"Edge = {vert,nbr[0]}, Time Label = {nbr[1]}, Weight = {wt_dict[(vert,nbr[0])]}\")\n",
        "        s = [[\"Edge\",\"Time Label\",\"Weight\"]]\n",
        "        for edge in self.graph.keys():\n",
        "            s.append([edge,self.graph[edge][0],self.graph[edge][1]])\n",
        "        return (tabulate(s,headers='firstrow',tablefmt='grid'))"
      ]
    },
    {
      "cell_type": "markdown",
      "metadata": {
        "id": "SPfMK_Gwom18"
      },
      "source": [
        "## Testing the code"
      ]
    },
    {
      "cell_type": "markdown",
      "metadata": {
        "id": "fYAW6LxUC17t"
      },
      "source": [
        "### Generation of sample Temporal Graph\n",
        "\n",
        "Simple code to generate random edges with labels `'a'` to `'z'`, and time labels. Result is a directed graph."
      ]
    },
    {
      "cell_type": "code",
      "execution_count": null,
      "metadata": {
        "colab": {
          "base_uri": "https://localhost:8080/"
        },
        "id": "TTAl8F3YC1cl",
        "outputId": "6f79b2eb-3750-44a0-bf8d-f849f2474c17"
      },
      "outputs": [
        {
          "name": "stdout",
          "output_type": "stream",
          "text": [
            "Writing Completed\n"
          ]
        }
      ],
      "source": [
        "import random\n",
        "\n",
        "random.seed(17)\n",
        "\n",
        "letters = [chr(x) for x in range(97,123)]\n",
        "labels = range(1,101)\n",
        "\n",
        "with open(\"tgraph_sample.txt\", \"w\") as f:\n",
        "    for _ in range(100):\n",
        "        s = random.sample(letters,2)\n",
        "        f.write(f\"{s[0]} {s[1]} {random.choice(labels)}\\n\")\n",
        "    print(\"Writing Completed\")\n",
        "    f.close()"
      ]
    },
    {
      "cell_type": "code",
      "execution_count": null,
      "metadata": {
        "id": "FXXxiVIYCueJ"
      },
      "outputs": [],
      "source": [
        "# Reading from file, to add edges in the data structure.\n",
        "\n",
        "def filetolist(file):\n",
        "    edge_list = []\n",
        "    with open(file,\"r\") as f:\n",
        "        L = f.readlines()\n",
        "    for edge in L:\n",
        "        e = edge.split(\" \")\n",
        "        e[2] = int(e[2])\n",
        "        edge_list.append(e)\n",
        "    return edge_list"
      ]
    },
    {
      "cell_type": "code",
      "execution_count": null,
      "metadata": {
        "colab": {
          "base_uri": "https://localhost:8080/"
        },
        "id": "sAOxrwmTpF83",
        "outputId": "51f1d04e-65ae-47a1-b913-46d1cbb85cac"
      },
      "outputs": [
        {
          "name": "stdout",
          "output_type": "stream",
          "text": [
            "+------------+--------------+----------+\n",
            "| Edge       |   Time Label |   Weight |\n",
            "+============+==============+==========+\n",
            "| ('a', 'b') |            2 |       70 |\n",
            "+------------+--------------+----------+\n",
            "| ('b', 'c') |           72 |       17 |\n",
            "+------------+--------------+----------+\n",
            "| ('c', 'd') |           89 |       11 |\n",
            "+------------+--------------+----------+\n",
            "| ('d', 'a') |          100 |       11 |\n",
            "+------------+--------------+----------+\n"
          ]
        }
      ],
      "source": [
        "# Preliminary small sample testing, this is for the case when the edges are keys.\n",
        "\n",
        "tg_test = TGraph()\n",
        "tg_test.addEdgedict('a','b',2)\n",
        "tg_test.addEdgedict('b','c',72)\n",
        "tg_test.addEdgedict('c','d',89)\n",
        "tg_test.addEdgedict('d','a',100)\n",
        "\n",
        "tg_test.assignWeights()\n",
        "\n",
        "print(tg_test)"
      ]
    },
    {
      "cell_type": "code",
      "execution_count": null,
      "metadata": {
        "colab": {
          "base_uri": "https://localhost:8080/"
        },
        "id": "shC-jfalZzWD",
        "outputId": "0e1fda94-1a6f-4317-9884-d9a07aa1b523"
      },
      "outputs": [
        {
          "name": "stdout",
          "output_type": "stream",
          "text": [
            "+--------+--------------+------------+\n",
            "| Edge   | Time Label   | Weight     |\n",
            "+========+==============+============+\n",
            "| a      | ('b', 2)     | ('d', 100) |\n",
            "+--------+--------------+------------+\n",
            "| b      | ('a', 2)     | ('c', 72)  |\n",
            "+--------+--------------+------------+\n",
            "| c      | ('b', 72)    | ('d', 89)  |\n",
            "+--------+--------------+------------+\n",
            "| d      | ('c', 89)    | ('a', 100) |\n",
            "+--------+--------------+------------+\n"
          ]
        }
      ],
      "source": [
        "# Now for the case of the adjacency list.\n",
        "\n",
        "tg_test1 = TGraph()\n",
        "tg_test1.addEdge('a','b',2)\n",
        "tg_test1.addEdge('b','c',72)\n",
        "tg_test1.addEdge('c','d',89)\n",
        "tg_test1.addEdge('d','a',100)\n",
        "\n",
        "# tg_test.assignWeights()\n",
        "\n",
        "print(tg_test1)"
      ]
    },
    {
      "cell_type": "code",
      "execution_count": null,
      "metadata": {
        "colab": {
          "base_uri": "https://localhost:8080/"
        },
        "id": "r44ruzhTssrX",
        "outputId": "4be70155-f3e1-4a65-fb50-bde3141df101"
      },
      "outputs": [
        {
          "name": "stdout",
          "output_type": "stream",
          "text": [
            "[['q', 'n', 39], ['l', 'j', 23], ['y', 'w', 91], ['r', 'v', 36], ['d', 'a', 32], ['m', 'x', 54], ['i', 'q', 41], ['u', 'v', 93], ['m', 'e', 71], ['b', 'e', 26], ['e', 'w', 69], ['r', 'z', 88], ['g', 'k', 70], ['d', 'w', 82], ['c', 'j', 53], ['c', 'q', 61], ['u', 't', 19], ['v', 'z', 53], ['q', 'k', 3], ['n', 'l', 74], ['b', 'y', 95], ['l', 'b', 62], ['l', 's', 100], ['a', 'm', 31], ['d', 'r', 28], ['h', 'q', 47], ['b', 'i', 9], ['z', 'i', 25], ['x', 't', 72], ['r', 'e', 33], ['v', 'j', 45], ['k', 'f', 43], ['d', 's', 75], ['z', 'i', 43], ['a', 'b', 97], ['l', 'a', 60], ['x', 'i', 61], ['u', 'b', 94], ['g', 'j', 34], ['c', 'x', 92], ['p', 'a', 80], ['s', 'q', 88], ['e', 'm', 63], ['x', 's', 51], ['f', 'g', 33], ['e', 'v', 15], ['g', 'b', 69], ['j', 'z', 41], ['z', 'k', 7], ['f', 'n', 12], ['w', 'y', 40], ['i', 'v', 52], ['p', 'c', 70], ['c', 'r', 82], ['h', 'r', 34], ['s', 'f', 38], ['b', 'x', 63], ['s', 'm', 63], ['h', 'r', 53], ['q', 'u', 57], ['c', 'o', 97], ['g', 'h', 62], ['k', 'g', 47], ['t', 'a', 96], ['s', 'q', 55], ['b', 'k', 75], ['f', 'r', 30], ['t', 'k', 48], ['f', 'y', 28], ['j', 'n', 46], ['o', 's', 12], ['q', 'd', 67], ['a', 'g', 74], ['w', 'r', 98], ['f', 'o', 60], ['o', 'q', 18], ['r', 'p', 58], ['a', 'j', 34], ['f', 'a', 60], ['k', 'y', 43], ['g', 'b', 35], ['d', 'q', 86], ['w', 'a', 4], ['d', 'p', 91], ['j', 't', 27], ['y', 'd', 100], ['a', 'o', 69], ['y', 'h', 84], ['a', 'm', 16], ['n', 'b', 95], ['r', 'b', 25], ['r', 'i', 35], ['l', 'r', 75], ['n', 'm', 1], ['q', 'y', 44], ['c', 'y', 96], ['z', 'b', 81], ['x', 'j', 42], ['k', 'd', 43], ['e', 'r', 32]]\n"
          ]
        }
      ],
      "source": [
        "tg = TGraph()\n",
        "\n",
        "edges = filetolist(\"tgraph_sample.txt\")\n",
        "\n",
        "print(edges)\n",
        "\n",
        "for edge in edges:\n",
        "    [u,v,t] = edge\n",
        "    tg.addEdgedict(u,v,t)"
      ]
    },
    {
      "cell_type": "code",
      "execution_count": null,
      "metadata": {
        "colab": {
          "base_uri": "https://localhost:8080/"
        },
        "id": "vwyawAmfs232",
        "outputId": "e72d7922-fcb8-4b7c-dc8e-3aeea7b8e4e2"
      },
      "outputs": [
        {
          "name": "stdout",
          "output_type": "stream",
          "text": [
            "+------------+--------------+----------+\n",
            "| Edge       |   Time Label |   Weight |\n",
            "+============+==============+==========+\n",
            "| ('q', 'n') |           39 |        2 |\n",
            "+------------+--------------+----------+\n",
            "| ('l', 'j') |           23 |        4 |\n",
            "+------------+--------------+----------+\n",
            "| ('y', 'w') |           91 |        4 |\n",
            "+------------+--------------+----------+\n",
            "| ('r', 'v') |           36 |        1 |\n",
            "+------------+--------------+----------+\n",
            "| ('d', 'a') |           32 |        2 |\n",
            "+------------+--------------+----------+\n",
            "| ('m', 'x') |           54 |        3 |\n",
            "+------------+--------------+----------+\n",
            "| ('i', 'q') |           41 |        2 |\n",
            "+------------+--------------+----------+\n",
            "| ('u', 'v') |           93 |        1 |\n",
            "+------------+--------------+----------+\n",
            "| ('m', 'e') |           71 |        2 |\n",
            "+------------+--------------+----------+\n",
            "| ('b', 'e') |           26 |        1 |\n",
            "+------------+--------------+----------+\n",
            "| ('e', 'w') |           69 |        2 |\n",
            "+------------+--------------+----------+\n",
            "| ('r', 'z') |           88 |        6 |\n",
            "+------------+--------------+----------+\n",
            "| ('g', 'k') |           70 |        4 |\n",
            "+------------+--------------+----------+\n",
            "| ('d', 'w') |           82 |        4 |\n",
            "+------------+--------------+----------+\n",
            "| ('c', 'j') |           53 |        7 |\n",
            "+------------+--------------+----------+\n",
            "| ('c', 'q') |           61 |        4 |\n",
            "+------------+--------------+----------+\n",
            "| ('u', 't') |           19 |        8 |\n",
            "+------------+--------------+----------+\n",
            "| ('v', 'z') |           53 |        1 |\n",
            "+------------+--------------+----------+\n",
            "| ('q', 'k') |            3 |        4 |\n",
            "+------------+--------------+----------+\n",
            "| ('n', 'l') |           74 |        1 |\n",
            "+------------+--------------+----------+\n",
            "| ('b', 'y') |           95 |        0 |\n",
            "+------------+--------------+----------+\n",
            "| ('l', 'b') |           62 |        1 |\n",
            "+------------+--------------+----------+\n",
            "| ('l', 's') |          100 |       25 |\n",
            "+------------+--------------+----------+\n",
            "| ('a', 'm') |           16 |       12 |\n",
            "+------------+--------------+----------+\n",
            "| ('d', 'r') |           28 |        2 |\n",
            "+------------+--------------+----------+\n",
            "| ('h', 'q') |           47 |        3 |\n",
            "+------------+--------------+----------+\n",
            "| ('b', 'i') |            9 |       16 |\n",
            "+------------+--------------+----------+\n",
            "| ('z', 'i') |           43 |        2 |\n",
            "+------------+--------------+----------+\n",
            "| ('x', 't') |           72 |        9 |\n",
            "+------------+--------------+----------+\n",
            "| ('r', 'e') |           33 |        1 |\n",
            "+------------+--------------+----------+\n",
            "| ('v', 'j') |           45 |        1 |\n",
            "+------------+--------------+----------+\n",
            "| ('k', 'f') |           43 |        0 |\n",
            "+------------+--------------+----------+\n",
            "| ('d', 's') |           75 |        7 |\n",
            "+------------+--------------+----------+\n",
            "| ('a', 'b') |           97 |        1 |\n",
            "+------------+--------------+----------+\n",
            "| ('l', 'a') |           60 |        0 |\n",
            "+------------+--------------+----------+\n",
            "| ('x', 'i') |           61 |        2 |\n",
            "+------------+--------------+----------+\n",
            "| ('u', 'b') |           94 |        1 |\n",
            "+------------+--------------+----------+\n",
            "| ('g', 'j') |           34 |        0 |\n",
            "+------------+--------------+----------+\n",
            "| ('c', 'x') |           92 |        4 |\n",
            "+------------+--------------+----------+\n",
            "| ('p', 'a') |           80 |        6 |\n",
            "+------------+--------------+----------+\n",
            "| ('s', 'q') |           55 |        2 |\n",
            "+------------+--------------+----------+\n",
            "| ('e', 'm') |           63 |        0 |\n",
            "+------------+--------------+----------+\n",
            "| ('x', 's') |           51 |        3 |\n",
            "+------------+--------------+----------+\n",
            "| ('f', 'g') |           33 |        1 |\n",
            "+------------+--------------+----------+\n",
            "| ('e', 'v') |           15 |       11 |\n",
            "+------------+--------------+----------+\n",
            "| ('g', 'b') |           35 |        1 |\n",
            "+------------+--------------+----------+\n",
            "| ('j', 'z') |           41 |        1 |\n",
            "+------------+--------------+----------+\n",
            "| ('z', 'k') |            7 |        4 |\n",
            "+------------+--------------+----------+\n",
            "| ('f', 'n') |           12 |       11 |\n",
            "+------------+--------------+----------+\n",
            "| ('w', 'y') |           40 |        3 |\n",
            "+------------+--------------+----------+\n",
            "| ('i', 'v') |           52 |        1 |\n",
            "+------------+--------------+----------+\n",
            "| ('p', 'c') |           70 |        9 |\n",
            "+------------+--------------+----------+\n",
            "| ('c', 'r') |           82 |        6 |\n",
            "+------------+--------------+----------+\n",
            "| ('h', 'r') |           53 |        5 |\n",
            "+------------+--------------+----------+\n",
            "| ('s', 'f') |           38 |        5 |\n",
            "+------------+--------------+----------+\n",
            "| ('b', 'x') |           63 |        1 |\n",
            "+------------+--------------+----------+\n",
            "| ('s', 'm') |           63 |        0 |\n",
            "+------------+--------------+----------+\n",
            "| ('q', 'u') |           57 |        2 |\n",
            "+------------+--------------+----------+\n",
            "| ('c', 'o') |           97 |        1 |\n",
            "+------------+--------------+----------+\n",
            "| ('g', 'h') |           62 |        8 |\n",
            "+------------+--------------+----------+\n",
            "| ('k', 'g') |           47 |        1 |\n",
            "+------------+--------------+----------+\n",
            "| ('t', 'a') |           96 |        1 |\n",
            "+------------+--------------+----------+\n",
            "| ('b', 'k') |           75 |        5 |\n",
            "+------------+--------------+----------+\n",
            "| ('f', 'r') |           30 |        2 |\n",
            "+------------+--------------+----------+\n",
            "| ('t', 'k') |           48 |        1 |\n",
            "+------------+--------------+----------+\n",
            "| ('f', 'y') |           28 |        2 |\n",
            "+------------+--------------+----------+\n",
            "| ('j', 'n') |           46 |        1 |\n",
            "+------------+--------------+----------+\n",
            "| ('o', 's') |           12 |        6 |\n",
            "+------------+--------------+----------+\n",
            "| ('q', 'd') |           67 |        6 |\n",
            "+------------+--------------+----------+\n",
            "| ('a', 'g') |           74 |        4 |\n",
            "+------------+--------------+----------+\n",
            "| ('w', 'r') |           98 |        7 |\n",
            "+------------+--------------+----------+\n",
            "| ('f', 'o') |           60 |        0 |\n",
            "+------------+--------------+----------+\n",
            "| ('o', 'q') |           18 |        6 |\n",
            "+------------+--------------+----------+\n",
            "| ('r', 'p') |           58 |        5 |\n",
            "+------------+--------------+----------+\n",
            "| ('a', 'j') |           34 |        0 |\n",
            "+------------+--------------+----------+\n",
            "| ('f', 'a') |           60 |        0 |\n",
            "+------------+--------------+----------+\n",
            "| ('k', 'y') |           43 |        0 |\n",
            "+------------+--------------+----------+\n",
            "| ('d', 'q') |           86 |        4 |\n",
            "+------------+--------------+----------+\n",
            "| ('w', 'a') |            4 |       12 |\n",
            "+------------+--------------+----------+\n",
            "| ('d', 'p') |           91 |        5 |\n",
            "+------------+--------------+----------+\n",
            "| ('j', 't') |           27 |        4 |\n",
            "+------------+--------------+----------+\n",
            "| ('y', 'd') |          100 |        4 |\n",
            "+------------+--------------+----------+\n",
            "| ('a', 'o') |           69 |        5 |\n",
            "+------------+--------------+----------+\n",
            "| ('y', 'h') |           84 |        7 |\n",
            "+------------+--------------+----------+\n",
            "| ('n', 'b') |           95 |        0 |\n",
            "+------------+--------------+----------+\n",
            "| ('r', 'b') |           25 |        1 |\n",
            "+------------+--------------+----------+\n",
            "| ('r', 'i') |           35 |        1 |\n",
            "+------------+--------------+----------+\n",
            "| ('l', 'r') |           75 |        1 |\n",
            "+------------+--------------+----------+\n",
            "| ('n', 'm') |            1 |       11 |\n",
            "+------------+--------------+----------+\n",
            "| ('q', 'y') |           44 |        1 |\n",
            "+------------+--------------+----------+\n",
            "| ('c', 'y') |           96 |        1 |\n",
            "+------------+--------------+----------+\n",
            "| ('z', 'b') |           81 |        6 |\n",
            "+------------+--------------+----------+\n",
            "| ('x', 'j') |           42 |        1 |\n",
            "+------------+--------------+----------+\n",
            "| ('k', 'd') |           43 |        0 |\n",
            "+------------+--------------+----------+\n",
            "| ('e', 'r') |           32 |        1 |\n",
            "+------------+--------------+----------+\n"
          ]
        }
      ],
      "source": [
        "tg.assignWeights()\n",
        "\n",
        "print(tg)"
      ]
    },
    {
      "cell_type": "markdown",
      "metadata": {
        "id": "I4-m-jFq3wmQ"
      },
      "source": [
        "# Getting persistence diagrams"
      ]
    },
    {
      "cell_type": "code",
      "execution_count": 80,
      "metadata": {
        "id": "3A15Ndc934Bf"
      },
      "outputs": [],
      "source": [
        "import numpy as np\n",
        "from numpy.random import default_rng\n",
        "rng = default_rng(42)  # Create a random number generator\n",
        "\n",
        "from scipy.spatial.distance import pdist, squareform\n",
        "from scipy.sparse import coo_matrix\n",
        "\n",
        "from gtda.graphs import GraphGeodesicDistance\n",
        "from gtda.homology import VietorisRipsPersistence, SparseRipsPersistence, FlagserPersistence\n",
        "\n",
        "from igraph import Graph\n",
        "\n",
        "from IPython.display import SVG, display"
      ]
    },
    {
      "cell_type": "markdown",
      "metadata": {
        "id": "y_8Cr3Sp44QM"
      },
      "source": [
        "https://github.com/giotto-ai/giotto-tda/blob/master/examples/persistent_homology_graphs.ipynb"
      ]
    },
    {
      "cell_type": "code",
      "execution_count": null,
      "metadata": {
        "colab": {
          "base_uri": "https://localhost:8080/"
        },
        "id": "_GUvhkze3-5A",
        "outputId": "71b072ce-d45c-49bf-e67a-d68b8f66ce9c"
      },
      "outputs": [
        {
          "name": "stdout",
          "output_type": "stream",
          "text": [
            "diagrams.shape: (1, 2, 3) (2 topological features)\n"
          ]
        }
      ],
      "source": [
        "# Create a single weighted adjacency matrix of a FCW graph\n",
        "n_vertices = 3\n",
        "x = np.random.randint(20,size=(n_vertices, n_vertices))\n",
        "# Fill the diagonal with zeros (not always necessary, see below)\n",
        "np.fill_diagonal(x, 0)\n",
        "# x = [[0,70,0,11],[70,0,17,0],[0,17,0,11],[11,0,11,0]]\n",
        "# x = np.array(x).astype(float)\n",
        "x\n",
        "\n",
        "# Create a trivial collection of weighted adjacency matrices, containing x only\n",
        "X = [x]\n",
        "\n",
        "# Instantiate topological transformer\n",
        "VR = VietorisRipsPersistence(metric=\"precomputed\")\n",
        "\n",
        "# Compute persistence diagrams corresponding to each entry (only one here) in X\n",
        "diagrams = VR.fit_transform(X)\n",
        "\n",
        "print(f\"diagrams.shape: {diagrams.shape} ({diagrams.shape[1]} topological features)\")"
      ]
    },
    {
      "cell_type": "code",
      "execution_count": null,
      "metadata": {
        "colab": {
          "base_uri": "https://localhost:8080/"
        },
        "id": "PSC9Lgoa8VT1",
        "outputId": "1bd53893-18ec-46a1-ef0c-21f6102f7863"
      },
      "outputs": [
        {
          "data": {
            "text/plain": [
              "array([[ 0,  6, 12],\n",
              "       [ 3,  0,  0],\n",
              "       [15,  0,  0]])"
            ]
          },
          "execution_count": 30,
          "metadata": {},
          "output_type": "execute_result"
        }
      ],
      "source": [
        "x"
      ]
    },
    {
      "cell_type": "code",
      "execution_count": null,
      "metadata": {
        "colab": {
          "base_uri": "https://localhost:8080/"
        },
        "id": "uHlb3aBu-vKj",
        "outputId": "72af31ab-1e5f-470d-afcf-1c7adaf82623"
      },
      "outputs": [
        {
          "name": "stdout",
          "output_type": "stream",
          "text": [
            "diagrams.shape: (1, 5, 3) (5 topological features)\n"
          ]
        }
      ],
      "source": [
        "x = np.array([[ 0, 12, 200,  3],\n",
        "              [ 12,  0, 10, 100],\n",
        "              [ 200, 10,  0,  7],\n",
        "              [ 3,  100,  7,  0]])\n",
        "\n",
        "X = [Ad]\n",
        "\n",
        "# Instantiate topological transformer\n",
        "VR = VietorisRipsPersistence(metric=\"precomputed\")\n",
        "\n",
        "# Compute persistence diagrams corresponding to each entry (only one here) in X\n",
        "diagrams = VR.fit_transform(X)\n",
        "\n",
        "print(f\"diagrams.shape: {diagrams.shape} ({diagrams.shape[1]} topological features)\")"
      ]
    },
    {
      "cell_type": "code",
      "execution_count": null,
      "metadata": {
        "colab": {
          "base_uri": "https://localhost:8080/"
        },
        "id": "jtRWLx7T_JVo",
        "outputId": "fd2d0d56-b2fd-4979-ae98-fe5cbc951383"
      },
      "outputs": [
        {
          "data": {
            "text/plain": [
              "array([[[ 0., 17.,  0.],\n",
              "        [ 0., 17.,  0.],\n",
              "        [ 0., 29.,  0.],\n",
              "        [ 0., 42.,  0.],\n",
              "        [ 0.,  0.,  1.]]])"
            ]
          },
          "execution_count": 55,
          "metadata": {},
          "output_type": "execute_result"
        }
      ],
      "source": [
        "diagrams"
      ]
    },
    {
      "cell_type": "code",
      "execution_count": null,
      "metadata": {
        "colab": {
          "base_uri": "https://localhost:8080/",
          "height": 406
        },
        "id": "FFQqJ_FxtJcX",
        "outputId": "f9edb46c-1ed6-4b2b-87ce-121a13f91930"
      },
      "outputs": [
        {
          "data": {
            "image/png": "[encoded data removed]",
            "text/plain": [
              "<Figure size 640x480 with 1 Axes>"
            ]
          },
          "metadata": {},
          "output_type": "display_data"
        }
      ],
      "source": [
        "draw_with_labels(Gw,'weight')"
      ]
    },
    {
      "cell_type": "code",
      "execution_count": null,
      "metadata": {
        "colab": {
          "base_uri": "https://localhost:8080/",
          "height": 517
        },
        "id": "6kCcgG_34--R",
        "outputId": "0f6cf665-270b-4e63-afd3-bd55949855d2"
      },
      "outputs": [
        {
          "data": {
            "text/html": [
              "<html>\n",
              "<head><meta charset=\"utf-8\" /></head>\n",
              "<body>\n",
              "    <div>            <script src=\"https://cdnjs.cloudflare.com/ajax/libs/mathjax/2.7.5/MathJax.js?config=TeX-AMS-MML_SVG\"></script><script type=\"text/javascript\">if (window.MathJax && window.MathJax.Hub && window.MathJax.Hub.Config) {window.MathJax.Hub.Config({SVG: {font: \"STIX-Web\"}});}</script>                <script type=\"text/javascript\">window.PlotlyConfig = {MathJaxConfig: 'local'};</script>\n",
              "        <script charset=\"utf-8\" src=\"https://cdn.plot.ly/plotly-2.24.1.min.js\"></script>                <div id=\"aab6ee9a-8945-4de5-9c46-6b45d4b3650a\" class=\"plotly-graph-div\" style=\"height:500px; width:500px;\"></div>            <script type=\"text/javascript\">                                    window.PLOTLYENV=window.PLOTLYENV || {};                                    if (document.getElementById(\"aab6ee9a-8945-4de5-9c46-6b45d4b3650a\")) {                    Plotly.newPlot(                        \"aab6ee9a-8945-4de5-9c46-6b45d4b3650a\",                        [{\"hoverinfo\":\"none\",\"line\":{\"color\":\"black\",\"dash\":\"dash\",\"width\":1},\"mode\":\"lines\",\"showlegend\":false,\"x\":[-0.84,42.84],\"y\":[-0.84,42.84],\"type\":\"scatter\"},{\"hoverinfo\":\"text\",\"hovertext\":[\"(0.0, 17.0), multiplicity: 2\",\"(0.0, 17.0), multiplicity: 2\",\"(0.0, 29.0)\",\"(0.0, 42.0)\"],\"mode\":\"markers\",\"name\":\"H0\",\"x\":[0.0,0.0,0.0,0.0],\"y\":[17.0,17.0,29.0,42.0],\"type\":\"scatter\"},{\"hoverinfo\":\"text\",\"hovertext\":[],\"mode\":\"markers\",\"name\":\"H1\",\"x\":[],\"y\":[],\"type\":\"scatter\"}],                        {\"template\":{\"data\":{\"histogram2dcontour\":[{\"type\":\"histogram2dcontour\",\"colorbar\":{\"outlinewidth\":0,\"ticks\":\"\"},\"colorscale\":[[0.0,\"#0d0887\"],[0.1111111111111111,\"#46039f\"],[0.2222222222222222,\"#7201a8\"],[0.3333333333333333,\"#9c179e\"],[0.4444444444444444,\"#bd3786\"],[0.5555555555555556,\"#d8576b\"],[0.6666666666666666,\"#ed7953\"],[0.7777777777777778,\"#fb9f3a\"],[0.8888888888888888,\"#fdca26\"],[1.0,\"#f0f921\"]]}],\"choropleth\":[{\"type\":\"choropleth\",\"colorbar\":{\"outlinewidth\":0,\"ticks\":\"\"}}],\"histogram2d\":[{\"type\":\"histogram2d\",\"colorbar\":{\"outlinewidth\":0,\"ticks\":\"\"},\"colorscale\":[[0.0,\"#0d0887\"],[0.1111111111111111,\"#46039f\"],[0.2222222222222222,\"#7201a8\"],[0.3333333333333333,\"#9c179e\"],[0.4444444444444444,\"#bd3786\"],[0.5555555555555556,\"#d8576b\"],[0.6666666666666666,\"#ed7953\"],[0.7777777777777778,\"#fb9f3a\"],[0.8888888888888888,\"#fdca26\"],[1.0,\"#f0f921\"]]}],\"heatmap\":[{\"type\":\"heatmap\",\"colorbar\":{\"outlinewidth\":0,\"ticks\":\"\"},\"colorscale\":[[0.0,\"#0d0887\"],[0.1111111111111111,\"#46039f\"],[0.2222222222222222,\"#7201a8\"],[0.3333333333333333,\"#9c179e\"],[0.4444444444444444,\"#bd3786\"],[0.5555555555555556,\"#d8576b\"],[0.6666666666666666,\"#ed7953\"],[0.7777777777777778,\"#fb9f3a\"],[0.8888888888888888,\"#fdca26\"],[1.0,\"#f0f921\"]]}],\"heatmapgl\":[{\"type\":\"heatmapgl\",\"colorbar\":{\"outlinewidth\":0,\"ticks\":\"\"},\"colorscale\":[[0.0,\"#0d0887\"],[0.1111111111111111,\"#46039f\"],[0.2222222222222222,\"#7201a8\"],[0.3333333333333333,\"#9c179e\"],[0.4444444444444444,\"#bd3786\"],[0.5555555555555556,\"#d8576b\"],[0.6666666666666666,\"#ed7953\"],[0.7777777777777778,\"#fb9f3a\"],[0.8888888888888888,\"#fdca26\"],[1.0,\"#f0f921\"]]}],\"contourcarpet\":[{\"type\":\"contourcarpet\",\"colorbar\":{\"outlinewidth\":0,\"ticks\":\"\"}}],\"contour\":[{\"type\":\"contour\",\"colorbar\":{\"outlinewidth\":0,\"ticks\":\"\"},\"colorscale\":[[0.0,\"#0d0887\"],[0.1111111111111111,\"#46039f\"],[0.2222222222222222,\"#7201a8\"],[0.3333333333333333,\"#9c179e\"],[0.4444444444444444,\"#bd3786\"],[0.5555555555555556,\"#d8576b\"],[0.6666666666666666,\"#ed7953\"],[0.7777777777777778,\"#fb9f3a\"],[0.8888888888888888,\"#fdca26\"],[1.0,\"#f0f921\"]]}],\"surface\":[{\"type\":\"surface\",\"colorbar\":{\"outlinewidth\":0,\"ticks\":\"\"},\"colorscale\":[[0.0,\"#0d0887\"],[0.1111111111111111,\"#46039f\"],[0.2222222222222222,\"#7201a8\"],[0.3333333333333333,\"#9c179e\"],[0.4444444444444444,\"#bd3786\"],[0.5555555555555556,\"#d8576b\"],[0.6666666666666666,\"#ed7953\"],[0.7777777777777778,\"#fb9f3a\"],[0.8888888888888888,\"#fdca26\"],[1.0,\"#f0f921\"]]}],\"mesh3d\":[{\"type\":\"mesh3d\",\"colorbar\":{\"outlinewidth\":0,\"ticks\":\"\"}}],\"scatter\":[{\"fillpattern\":{\"fillmode\":\"overlay\",\"size\":10,\"solidity\":0.2},\"type\":\"scatter\"}],\"parcoords\":[{\"type\":\"parcoords\",\"line\":{\"colorbar\":{\"outlinewidth\":0,\"ticks\":\"\"}}}],\"scatterpolargl\":[{\"type\":\"scatterpolargl\",\"marker\":{\"colorbar\":{\"outlinewidth\":0,\"ticks\":\"\"}}}],\"bar\":[{\"error_x\":{\"color\":\"#2a3f5f\"},\"error_y\":{\"color\":\"#2a3f5f\"},\"marker\":{\"line\":{\"color\":\"#E5ECF6\",\"width\":0.5},\"pattern\":{\"fillmode\":\"overlay\",\"size\":10,\"solidity\":0.2}},\"type\":\"bar\"}],\"scattergeo\":[{\"type\":\"scattergeo\",\"marker\":{\"colorbar\":{\"outlinewidth\":0,\"ticks\":\"\"}}}],\"scatterpolar\":[{\"type\":\"scatterpolar\",\"marker\":{\"colorbar\":{\"outlinewidth\":0,\"ticks\":\"\"}}}],\"histogram\":[{\"marker\":{\"pattern\":{\"fillmode\":\"overlay\",\"size\":10,\"solidity\":0.2}},\"type\":\"histogram\"}],\"scattergl\":[{\"type\":\"scattergl\",\"marker\":{\"colorbar\":{\"outlinewidth\":0,\"ticks\":\"\"}}}],\"scatter3d\":[{\"type\":\"scatter3d\",\"line\":{\"colorbar\":{\"outlinewidth\":0,\"ticks\":\"\"}},\"marker\":{\"colorbar\":{\"outlinewidth\":0,\"ticks\":\"\"}}}],\"scattermapbox\":[{\"type\":\"scattermapbox\",\"marker\":{\"colorbar\":{\"outlinewidth\":0,\"ticks\":\"\"}}}],\"scatterternary\":[{\"type\":\"scatterternary\",\"marker\":{\"colorbar\":{\"outlinewidth\":0,\"ticks\":\"\"}}}],\"scattercarpet\":[{\"type\":\"scattercarpet\",\"marker\":{\"colorbar\":{\"outlinewidth\":0,\"ticks\":\"\"}}}],\"carpet\":[{\"aaxis\":{\"endlinecolor\":\"#2a3f5f\",\"gridcolor\":\"white\",\"linecolor\":\"white\",\"minorgridcolor\":\"white\",\"startlinecolor\":\"#2a3f5f\"},\"baxis\":{\"endlinecolor\":\"#2a3f5f\",\"gridcolor\":\"white\",\"linecolor\":\"white\",\"minorgridcolor\":\"white\",\"startlinecolor\":\"#2a3f5f\"},\"type\":\"carpet\"}],\"table\":[{\"cells\":{\"fill\":{\"color\":\"#EBF0F8\"},\"line\":{\"color\":\"white\"}},\"header\":{\"fill\":{\"color\":\"#C8D4E3\"},\"line\":{\"color\":\"white\"}},\"type\":\"table\"}],\"barpolar\":[{\"marker\":{\"line\":{\"color\":\"#E5ECF6\",\"width\":0.5},\"pattern\":{\"fillmode\":\"overlay\",\"size\":10,\"solidity\":0.2}},\"type\":\"barpolar\"}],\"pie\":[{\"automargin\":true,\"type\":\"pie\"}]},\"layout\":{\"autotypenumbers\":\"strict\",\"colorway\":[\"#636efa\",\"#EF553B\",\"#00cc96\",\"#ab63fa\",\"#FFA15A\",\"#19d3f3\",\"#FF6692\",\"#B6E880\",\"#FF97FF\",\"#FECB52\"],\"font\":{\"color\":\"#2a3f5f\"},\"hovermode\":\"closest\",\"hoverlabel\":{\"align\":\"left\"},\"paper_bgcolor\":\"white\",\"plot_bgcolor\":\"#E5ECF6\",\"polar\":{\"bgcolor\":\"#E5ECF6\",\"angularaxis\":{\"gridcolor\":\"white\",\"linecolor\":\"white\",\"ticks\":\"\"},\"radialaxis\":{\"gridcolor\":\"white\",\"linecolor\":\"white\",\"ticks\":\"\"}},\"ternary\":{\"bgcolor\":\"#E5ECF6\",\"aaxis\":{\"gridcolor\":\"white\",\"linecolor\":\"white\",\"ticks\":\"\"},\"baxis\":{\"gridcolor\":\"white\",\"linecolor\":\"white\",\"ticks\":\"\"},\"caxis\":{\"gridcolor\":\"white\",\"linecolor\":\"white\",\"ticks\":\"\"}},\"coloraxis\":{\"colorbar\":{\"outlinewidth\":0,\"ticks\":\"\"}},\"colorscale\":{\"sequential\":[[0.0,\"#0d0887\"],[0.1111111111111111,\"#46039f\"],[0.2222222222222222,\"#7201a8\"],[0.3333333333333333,\"#9c179e\"],[0.4444444444444444,\"#bd3786\"],[0.5555555555555556,\"#d8576b\"],[0.6666666666666666,\"#ed7953\"],[0.7777777777777778,\"#fb9f3a\"],[0.8888888888888888,\"#fdca26\"],[1.0,\"#f0f921\"]],\"sequentialminus\":[[0.0,\"#0d0887\"],[0.1111111111111111,\"#46039f\"],[0.2222222222222222,\"#7201a8\"],[0.3333333333333333,\"#9c179e\"],[0.4444444444444444,\"#bd3786\"],[0.5555555555555556,\"#d8576b\"],[0.6666666666666666,\"#ed7953\"],[0.7777777777777778,\"#fb9f3a\"],[0.8888888888888888,\"#fdca26\"],[1.0,\"#f0f921\"]],\"diverging\":[[0,\"#8e0152\"],[0.1,\"#c51b7d\"],[0.2,\"#de77ae\"],[0.3,\"#f1b6da\"],[0.4,\"#fde0ef\"],[0.5,\"#f7f7f7\"],[0.6,\"#e6f5d0\"],[0.7,\"#b8e186\"],[0.8,\"#7fbc41\"],[0.9,\"#4d9221\"],[1,\"#276419\"]]},\"xaxis\":{\"gridcolor\":\"white\",\"linecolor\":\"white\",\"ticks\":\"\",\"title\":{\"standoff\":15},\"zerolinecolor\":\"white\",\"automargin\":true,\"zerolinewidth\":2},\"yaxis\":{\"gridcolor\":\"white\",\"linecolor\":\"white\",\"ticks\":\"\",\"title\":{\"standoff\":15},\"zerolinecolor\":\"white\",\"automargin\":true,\"zerolinewidth\":2},\"scene\":{\"xaxis\":{\"backgroundcolor\":\"#E5ECF6\",\"gridcolor\":\"white\",\"linecolor\":\"white\",\"showbackground\":true,\"ticks\":\"\",\"zerolinecolor\":\"white\",\"gridwidth\":2},\"yaxis\":{\"backgroundcolor\":\"#E5ECF6\",\"gridcolor\":\"white\",\"linecolor\":\"white\",\"showbackground\":true,\"ticks\":\"\",\"zerolinecolor\":\"white\",\"gridwidth\":2},\"zaxis\":{\"backgroundcolor\":\"#E5ECF6\",\"gridcolor\":\"white\",\"linecolor\":\"white\",\"showbackground\":true,\"ticks\":\"\",\"zerolinecolor\":\"white\",\"gridwidth\":2}},\"shapedefaults\":{\"line\":{\"color\":\"#2a3f5f\"}},\"annotationdefaults\":{\"arrowcolor\":\"#2a3f5f\",\"arrowhead\":0,\"arrowwidth\":1},\"geo\":{\"bgcolor\":\"white\",\"landcolor\":\"#E5ECF6\",\"subunitcolor\":\"white\",\"showland\":true,\"showlakes\":true,\"lakecolor\":\"white\"},\"title\":{\"x\":0.05},\"mapbox\":{\"style\":\"light\"}}},\"xaxis\":{\"title\":{\"text\":\"Birth\"},\"side\":\"bottom\",\"type\":\"linear\",\"range\":[-0.84,42.84],\"autorange\":false,\"ticks\":\"outside\",\"showline\":true,\"zeroline\":true,\"linewidth\":1,\"linecolor\":\"black\",\"mirror\":false,\"showexponent\":\"all\",\"exponentformat\":\"e\"},\"yaxis\":{\"title\":{\"text\":\"Death\"},\"side\":\"left\",\"type\":\"linear\",\"range\":[-0.84,42.84],\"autorange\":false,\"scaleanchor\":\"x\",\"scaleratio\":1,\"ticks\":\"outside\",\"showline\":true,\"zeroline\":true,\"linewidth\":1,\"linecolor\":\"black\",\"mirror\":false,\"showexponent\":\"all\",\"exponentformat\":\"e\"},\"width\":500,\"height\":500,\"plot_bgcolor\":\"white\"},                        {\"responsive\": true}                    ).then(function(){\n",
              "                            \n",
              "var gd = document.getElementById('aab6ee9a-8945-4de5-9c46-6b45d4b3650a');\n",
              "var x = new MutationObserver(function (mutations, observer) {{\n",
              "        var display = window.getComputedStyle(gd).display;\n",
              "        if (!display || display === 'none') {{\n",
              "            console.log([gd, 'removed!']);\n",
              "            Plotly.purge(gd);\n",
              "            observer.disconnect();\n",
              "        }}\n",
              "}});\n",
              "\n",
              "// Listen for the removal of the full notebook cells\n",
              "var notebookContainer = gd.closest('#notebook-container');\n",
              "if (notebookContainer) {{\n",
              "    x.observe(notebookContainer, {childList: true});\n",
              "}}\n",
              "\n",
              "// Listen for the clearing of the current output cell\n",
              "var outputEl = gd.closest('.output');\n",
              "if (outputEl) {{\n",
              "    x.observe(outputEl, {childList: true});\n",
              "}}\n",
              "\n",
              "                        })                };                            </script>        </div>\n",
              "</body>\n",
              "</html>"
            ]
          },
          "metadata": {},
          "output_type": "display_data"
        }
      ],
      "source": [
        "from gtda.plotting import plot_diagram\n",
        "\n",
        "plot_diagram(diagrams[0])"
      ]
    },
    {
      "cell_type": "code",
      "execution_count": null,
      "metadata": {
        "colab": {
          "base_uri": "https://localhost:8080/",
          "height": 517
        },
        "id": "VK4dDZA8QYsb",
        "outputId": "09500857-1ffb-414d-d2a7-7a213caa42bb"
      },
      "outputs": [
        {
          "data": {
            "text/html": [
              "<html>\n",
              "<head><meta charset=\"utf-8\" /></head>\n",
              "<body>\n",
              "    <div>            <script src=\"https://cdnjs.cloudflare.com/ajax/libs/mathjax/2.7.5/MathJax.js?config=TeX-AMS-MML_SVG\"></script><script type=\"text/javascript\">if (window.MathJax && window.MathJax.Hub && window.MathJax.Hub.Config) {window.MathJax.Hub.Config({SVG: {font: \"STIX-Web\"}});}</script>                <script type=\"text/javascript\">window.PlotlyConfig = {MathJaxConfig: 'local'};</script>\n",
              "        <script charset=\"utf-8\" src=\"https://cdn.plot.ly/plotly-2.24.1.min.js\"></script>                <div id=\"89a71977-e209-4bf6-8d1e-fa92f0b1e355\" class=\"plotly-graph-div\" style=\"height:500px; width:500px;\"></div>            <script type=\"text/javascript\">                                    window.PLOTLYENV=window.PLOTLYENV || {};                                    if (document.getElementById(\"89a71977-e209-4bf6-8d1e-fa92f0b1e355\")) {                    Plotly.newPlot(                        \"89a71977-e209-4bf6-8d1e-fa92f0b1e355\",                        [{\"hoverinfo\":\"none\",\"line\":{\"color\":\"black\",\"dash\":\"dash\",\"width\":1},\"mode\":\"lines\",\"showlegend\":false,\"x\":[-0.9600000000000001,8.96],\"y\":[-0.9600000000000001,8.96],\"type\":\"scatter\"},{\"hoverinfo\":\"text\",\"hovertext\":[\"(0.0, 1.0)\",\"(0.0, 2.0), multiplicity: 2\",\"(0.0, 2.0), multiplicity: 2\",\"(0.0, 3.0)\",\"(0.0, 4.0)\",\"(0.0, 5.0)\",\"(0.0, 6.0)\",\"(0.0, 7.0)\"],\"mode\":\"markers\",\"name\":\"H0\",\"x\":[0.0,0.0,0.0,0.0,0.0,0.0,0.0,0.0],\"y\":[1.0,2.0,2.0,3.0,4.0,5.0,6.0,7.0],\"type\":\"scatter\"},{\"hoverinfo\":\"text\",\"hovertext\":[\"(3.0, 5.0)\",\"(8.0, inf), multiplicity: 2\",\"(8.0, inf), multiplicity: 2\"],\"mode\":\"markers\",\"name\":\"H1\",\"x\":[3.0,8.0,8.0],\"y\":[5.0,8.8,8.8],\"type\":\"scatter\"},{\"hoverinfo\":\"none\",\"line\":{\"color\":\"black\",\"dash\":\"dash\",\"width\":0.5},\"mode\":\"lines\",\"name\":\"\\u221e\",\"showlegend\":true,\"x\":[-0.9600000000000001,8.96],\"y\":[8.8,8.8],\"type\":\"scatter\"}],                        {\"template\":{\"data\":{\"histogram2dcontour\":[{\"type\":\"histogram2dcontour\",\"colorbar\":{\"outlinewidth\":0,\"ticks\":\"\"},\"colorscale\":[[0.0,\"#0d0887\"],[0.1111111111111111,\"#46039f\"],[0.2222222222222222,\"#7201a8\"],[0.3333333333333333,\"#9c179e\"],[0.4444444444444444,\"#bd3786\"],[0.5555555555555556,\"#d8576b\"],[0.6666666666666666,\"#ed7953\"],[0.7777777777777778,\"#fb9f3a\"],[0.8888888888888888,\"#fdca26\"],[1.0,\"#f0f921\"]]}],\"choropleth\":[{\"type\":\"choropleth\",\"colorbar\":{\"outlinewidth\":0,\"ticks\":\"\"}}],\"histogram2d\":[{\"type\":\"histogram2d\",\"colorbar\":{\"outlinewidth\":0,\"ticks\":\"\"},\"colorscale\":[[0.0,\"#0d0887\"],[0.1111111111111111,\"#46039f\"],[0.2222222222222222,\"#7201a8\"],[0.3333333333333333,\"#9c179e\"],[0.4444444444444444,\"#bd3786\"],[0.5555555555555556,\"#d8576b\"],[0.6666666666666666,\"#ed7953\"],[0.7777777777777778,\"#fb9f3a\"],[0.8888888888888888,\"#fdca26\"],[1.0,\"#f0f921\"]]}],\"heatmap\":[{\"type\":\"heatmap\",\"colorbar\":{\"outlinewidth\":0,\"ticks\":\"\"},\"colorscale\":[[0.0,\"#0d0887\"],[0.1111111111111111,\"#46039f\"],[0.2222222222222222,\"#7201a8\"],[0.3333333333333333,\"#9c179e\"],[0.4444444444444444,\"#bd3786\"],[0.5555555555555556,\"#d8576b\"],[0.6666666666666666,\"#ed7953\"],[0.7777777777777778,\"#fb9f3a\"],[0.8888888888888888,\"#fdca26\"],[1.0,\"#f0f921\"]]}],\"heatmapgl\":[{\"type\":\"heatmapgl\",\"colorbar\":{\"outlinewidth\":0,\"ticks\":\"\"},\"colorscale\":[[0.0,\"#0d0887\"],[0.1111111111111111,\"#46039f\"],[0.2222222222222222,\"#7201a8\"],[0.3333333333333333,\"#9c179e\"],[0.4444444444444444,\"#bd3786\"],[0.5555555555555556,\"#d8576b\"],[0.6666666666666666,\"#ed7953\"],[0.7777777777777778,\"#fb9f3a\"],[0.8888888888888888,\"#fdca26\"],[1.0,\"#f0f921\"]]}],\"contourcarpet\":[{\"type\":\"contourcarpet\",\"colorbar\":{\"outlinewidth\":0,\"ticks\":\"\"}}],\"contour\":[{\"type\":\"contour\",\"colorbar\":{\"outlinewidth\":0,\"ticks\":\"\"},\"colorscale\":[[0.0,\"#0d0887\"],[0.1111111111111111,\"#46039f\"],[0.2222222222222222,\"#7201a8\"],[0.3333333333333333,\"#9c179e\"],[0.4444444444444444,\"#bd3786\"],[0.5555555555555556,\"#d8576b\"],[0.6666666666666666,\"#ed7953\"],[0.7777777777777778,\"#fb9f3a\"],[0.8888888888888888,\"#fdca26\"],[1.0,\"#f0f921\"]]}],\"surface\":[{\"type\":\"surface\",\"colorbar\":{\"outlinewidth\":0,\"ticks\":\"\"},\"colorscale\":[[0.0,\"#0d0887\"],[0.1111111111111111,\"#46039f\"],[0.2222222222222222,\"#7201a8\"],[0.3333333333333333,\"#9c179e\"],[0.4444444444444444,\"#bd3786\"],[0.5555555555555556,\"#d8576b\"],[0.6666666666666666,\"#ed7953\"],[0.7777777777777778,\"#fb9f3a\"],[0.8888888888888888,\"#fdca26\"],[1.0,\"#f0f921\"]]}],\"mesh3d\":[{\"type\":\"mesh3d\",\"colorbar\":{\"outlinewidth\":0,\"ticks\":\"\"}}],\"scatter\":[{\"fillpattern\":{\"fillmode\":\"overlay\",\"size\":10,\"solidity\":0.2},\"type\":\"scatter\"}],\"parcoords\":[{\"type\":\"parcoords\",\"line\":{\"colorbar\":{\"outlinewidth\":0,\"ticks\":\"\"}}}],\"scatterpolargl\":[{\"type\":\"scatterpolargl\",\"marker\":{\"colorbar\":{\"outlinewidth\":0,\"ticks\":\"\"}}}],\"bar\":[{\"error_x\":{\"color\":\"#2a3f5f\"},\"error_y\":{\"color\":\"#2a3f5f\"},\"marker\":{\"line\":{\"color\":\"#E5ECF6\",\"width\":0.5},\"pattern\":{\"fillmode\":\"overlay\",\"size\":10,\"solidity\":0.2}},\"type\":\"bar\"}],\"scattergeo\":[{\"type\":\"scattergeo\",\"marker\":{\"colorbar\":{\"outlinewidth\":0,\"ticks\":\"\"}}}],\"scatterpolar\":[{\"type\":\"scatterpolar\",\"marker\":{\"colorbar\":{\"outlinewidth\":0,\"ticks\":\"\"}}}],\"histogram\":[{\"marker\":{\"pattern\":{\"fillmode\":\"overlay\",\"size\":10,\"solidity\":0.2}},\"type\":\"histogram\"}],\"scattergl\":[{\"type\":\"scattergl\",\"marker\":{\"colorbar\":{\"outlinewidth\":0,\"ticks\":\"\"}}}],\"scatter3d\":[{\"type\":\"scatter3d\",\"line\":{\"colorbar\":{\"outlinewidth\":0,\"ticks\":\"\"}},\"marker\":{\"colorbar\":{\"outlinewidth\":0,\"ticks\":\"\"}}}],\"scattermapbox\":[{\"type\":\"scattermapbox\",\"marker\":{\"colorbar\":{\"outlinewidth\":0,\"ticks\":\"\"}}}],\"scatterternary\":[{\"type\":\"scatterternary\",\"marker\":{\"colorbar\":{\"outlinewidth\":0,\"ticks\":\"\"}}}],\"scattercarpet\":[{\"type\":\"scattercarpet\",\"marker\":{\"colorbar\":{\"outlinewidth\":0,\"ticks\":\"\"}}}],\"carpet\":[{\"aaxis\":{\"endlinecolor\":\"#2a3f5f\",\"gridcolor\":\"white\",\"linecolor\":\"white\",\"minorgridcolor\":\"white\",\"startlinecolor\":\"#2a3f5f\"},\"baxis\":{\"endlinecolor\":\"#2a3f5f\",\"gridcolor\":\"white\",\"linecolor\":\"white\",\"minorgridcolor\":\"white\",\"startlinecolor\":\"#2a3f5f\"},\"type\":\"carpet\"}],\"table\":[{\"cells\":{\"fill\":{\"color\":\"#EBF0F8\"},\"line\":{\"color\":\"white\"}},\"header\":{\"fill\":{\"color\":\"#C8D4E3\"},\"line\":{\"color\":\"white\"}},\"type\":\"table\"}],\"barpolar\":[{\"marker\":{\"line\":{\"color\":\"#E5ECF6\",\"width\":0.5},\"pattern\":{\"fillmode\":\"overlay\",\"size\":10,\"solidity\":0.2}},\"type\":\"barpolar\"}],\"pie\":[{\"automargin\":true,\"type\":\"pie\"}]},\"layout\":{\"autotypenumbers\":\"strict\",\"colorway\":[\"#636efa\",\"#EF553B\",\"#00cc96\",\"#ab63fa\",\"#FFA15A\",\"#19d3f3\",\"#FF6692\",\"#B6E880\",\"#FF97FF\",\"#FECB52\"],\"font\":{\"color\":\"#2a3f5f\"},\"hovermode\":\"closest\",\"hoverlabel\":{\"align\":\"left\"},\"paper_bgcolor\":\"white\",\"plot_bgcolor\":\"#E5ECF6\",\"polar\":{\"bgcolor\":\"#E5ECF6\",\"angularaxis\":{\"gridcolor\":\"white\",\"linecolor\":\"white\",\"ticks\":\"\"},\"radialaxis\":{\"gridcolor\":\"white\",\"linecolor\":\"white\",\"ticks\":\"\"}},\"ternary\":{\"bgcolor\":\"#E5ECF6\",\"aaxis\":{\"gridcolor\":\"white\",\"linecolor\":\"white\",\"ticks\":\"\"},\"baxis\":{\"gridcolor\":\"white\",\"linecolor\":\"white\",\"ticks\":\"\"},\"caxis\":{\"gridcolor\":\"white\",\"linecolor\":\"white\",\"ticks\":\"\"}},\"coloraxis\":{\"colorbar\":{\"outlinewidth\":0,\"ticks\":\"\"}},\"colorscale\":{\"sequential\":[[0.0,\"#0d0887\"],[0.1111111111111111,\"#46039f\"],[0.2222222222222222,\"#7201a8\"],[0.3333333333333333,\"#9c179e\"],[0.4444444444444444,\"#bd3786\"],[0.5555555555555556,\"#d8576b\"],[0.6666666666666666,\"#ed7953\"],[0.7777777777777778,\"#fb9f3a\"],[0.8888888888888888,\"#fdca26\"],[1.0,\"#f0f921\"]],\"sequentialminus\":[[0.0,\"#0d0887\"],[0.1111111111111111,\"#46039f\"],[0.2222222222222222,\"#7201a8\"],[0.3333333333333333,\"#9c179e\"],[0.4444444444444444,\"#bd3786\"],[0.5555555555555556,\"#d8576b\"],[0.6666666666666666,\"#ed7953\"],[0.7777777777777778,\"#fb9f3a\"],[0.8888888888888888,\"#fdca26\"],[1.0,\"#f0f921\"]],\"diverging\":[[0,\"#8e0152\"],[0.1,\"#c51b7d\"],[0.2,\"#de77ae\"],[0.3,\"#f1b6da\"],[0.4,\"#fde0ef\"],[0.5,\"#f7f7f7\"],[0.6,\"#e6f5d0\"],[0.7,\"#b8e186\"],[0.8,\"#7fbc41\"],[0.9,\"#4d9221\"],[1,\"#276419\"]]},\"xaxis\":{\"gridcolor\":\"white\",\"linecolor\":\"white\",\"ticks\":\"\",\"title\":{\"standoff\":15},\"zerolinecolor\":\"white\",\"automargin\":true,\"zerolinewidth\":2},\"yaxis\":{\"gridcolor\":\"white\",\"linecolor\":\"white\",\"ticks\":\"\",\"title\":{\"standoff\":15},\"zerolinecolor\":\"white\",\"automargin\":true,\"zerolinewidth\":2},\"scene\":{\"xaxis\":{\"backgroundcolor\":\"#E5ECF6\",\"gridcolor\":\"white\",\"linecolor\":\"white\",\"showbackground\":true,\"ticks\":\"\",\"zerolinecolor\":\"white\",\"gridwidth\":2},\"yaxis\":{\"backgroundcolor\":\"#E5ECF6\",\"gridcolor\":\"white\",\"linecolor\":\"white\",\"showbackground\":true,\"ticks\":\"\",\"zerolinecolor\":\"white\",\"gridwidth\":2},\"zaxis\":{\"backgroundcolor\":\"#E5ECF6\",\"gridcolor\":\"white\",\"linecolor\":\"white\",\"showbackground\":true,\"ticks\":\"\",\"zerolinecolor\":\"white\",\"gridwidth\":2}},\"shapedefaults\":{\"line\":{\"color\":\"#2a3f5f\"}},\"annotationdefaults\":{\"arrowcolor\":\"#2a3f5f\",\"arrowhead\":0,\"arrowwidth\":1},\"geo\":{\"bgcolor\":\"white\",\"landcolor\":\"#E5ECF6\",\"subunitcolor\":\"white\",\"showland\":true,\"showlakes\":true,\"lakecolor\":\"white\"},\"title\":{\"x\":0.05},\"mapbox\":{\"style\":\"light\"}}},\"xaxis\":{\"title\":{\"text\":\"Birth\"},\"side\":\"bottom\",\"type\":\"linear\",\"range\":[-0.9600000000000001,8.96],\"autorange\":false,\"ticks\":\"outside\",\"showline\":true,\"zeroline\":true,\"linewidth\":1,\"linecolor\":\"black\",\"mirror\":false,\"showexponent\":\"all\",\"exponentformat\":\"e\"},\"yaxis\":{\"title\":{\"text\":\"Death\"},\"side\":\"left\",\"type\":\"linear\",\"range\":[-0.9600000000000001,8.96],\"autorange\":false,\"scaleanchor\":\"x\",\"scaleratio\":1,\"ticks\":\"outside\",\"showline\":true,\"zeroline\":true,\"linewidth\":1,\"linecolor\":\"black\",\"mirror\":false,\"showexponent\":\"all\",\"exponentformat\":\"e\"},\"width\":500,\"height\":500,\"plot_bgcolor\":\"white\"},                        {\"responsive\": true}                    ).then(function(){\n",
              "                            \n",
              "var gd = document.getElementById('89a71977-e209-4bf6-8d1e-fa92f0b1e355');\n",
              "var x = new MutationObserver(function (mutations, observer) {{\n",
              "        var display = window.getComputedStyle(gd).display;\n",
              "        if (!display || display === 'none') {{\n",
              "            console.log([gd, 'removed!']);\n",
              "            Plotly.purge(gd);\n",
              "            observer.disconnect();\n",
              "        }}\n",
              "}});\n",
              "\n",
              "// Listen for the removal of the full notebook cells\n",
              "var notebookContainer = gd.closest('#notebook-container');\n",
              "if (notebookContainer) {{\n",
              "    x.observe(notebookContainer, {childList: true});\n",
              "}}\n",
              "\n",
              "// Listen for the clearing of the current output cell\n",
              "var outputEl = gd.closest('.output');\n",
              "if (outputEl) {{\n",
              "    x.observe(outputEl, {childList: true});\n",
              "}}\n",
              "\n",
              "                        })                };                            </script>        </div>\n",
              "</body>\n",
              "</html>"
            ]
          },
          "metadata": {},
          "output_type": "display_data"
        }
      ],
      "source": [
        "diagrams = np.array([[[0., 1., 0],\n",
        "                      [0., 2., 0],\n",
        "                      [0., 2., 0],\n",
        "                      [0., 3., 0],\n",
        "                      [0., 4., 0],\n",
        "                      [0., 5., 0],\n",
        "                      [0., 6., 0],\n",
        "                      [0., 7., 0],\n",
        "                      [3., 5., 1],\n",
        "                      [8., np.inf, 1],\n",
        "                      [8., np.inf, 1]]])\n",
        "\n",
        "plot_diagram(diagrams[0])"
      ]
    },
    {
      "cell_type": "markdown",
      "metadata": {
        "id": "dP_RyA-jBzuR"
      },
      "source": [
        "# Gudhi Code"
      ]
    },
    {
      "cell_type": "code",
      "execution_count": 18,
      "metadata": {
        "id": "UfS9xKNoB6bG"
      },
      "outputs": [],
      "source": [
        "import numpy as np\n",
        "import pandas as pd\n",
        "import gudhi as gd\n",
        "from sklearn import manifold\n",
        "from pylab import *\n",
        "%matplotlib inline\n",
        "# import sklearn_tda"
      ]
    },
    {
      "cell_type": "code",
      "execution_count": null,
      "metadata": {
        "id": "As54ShqvCxIC"
      },
      "outputs": [],
      "source": [
        "D0 = np.array([[ 0, 12, 0,  3],\n",
        "              [ 12,  0, 10, 15],\n",
        "              [ 0, 10,  0,  7],\n",
        "              [ 3,  15,  7,  0]])\n",
        "\n",
        "D0 = pd.DataFrame(D0)\n"
      ]
    },
    {
      "cell_type": "code",
      "execution_count": null,
      "metadata": {
        "colab": {
          "base_uri": "https://localhost:8080/",
          "height": 175
        },
        "id": "64F6zjBzDnlV",
        "outputId": "4b56231e-279b-41fb-aa74-8b1f97997314"
      },
      "outputs": [
        {
          "data": {
            "application/vnd.google.colaboratory.intrinsic+json": {
              "summary": "{\n  \"name\": \"D0\",\n  \"rows\": 4,\n  \"fields\": [\n    {\n      \"column\": 0,\n      \"properties\": {\n        \"dtype\": \"number\",\n        \"std\": 5,\n        \"min\": 0,\n        \"max\": 12,\n        \"num_unique_values\": 3,\n        \"samples\": [\n          0,\n          12,\n          3\n        ],\n        \"semantic_type\": \"\",\n        \"description\": \"\"\n      }\n    },\n    {\n      \"column\": 1,\n      \"properties\": {\n        \"dtype\": \"number\",\n        \"std\": 6,\n        \"min\": 0,\n        \"max\": 15,\n        \"num_unique_values\": 4,\n        \"samples\": [\n          0,\n          15,\n          12\n        ],\n        \"semantic_type\": \"\",\n        \"description\": \"\"\n      }\n    },\n    {\n      \"column\": 2,\n      \"properties\": {\n        \"dtype\": \"number\",\n        \"std\": 5,\n        \"min\": 0,\n        \"max\": 10,\n        \"num_unique_values\": 3,\n        \"samples\": [\n          0,\n          10,\n          7\n        ],\n        \"semantic_type\": \"\",\n        \"description\": \"\"\n      }\n    },\n    {\n      \"column\": 3,\n      \"properties\": {\n        \"dtype\": \"number\",\n        \"std\": 6,\n        \"min\": 0,\n        \"max\": 15,\n        \"num_unique_values\": 4,\n        \"samples\": [\n          15,\n          0,\n          3\n        ],\n        \"semantic_type\": \"\",\n        \"description\": \"\"\n      }\n    }\n  ]\n}",
              "type": "dataframe",
              "variable_name": "D0"
            },
            "text/html": [
              "\n",
              "  <div id=\"df-2c47d428-ccc1-4528-908e-2c322d67c3fd\" class=\"colab-df-container\">\n",
              "    <div>\n",
              "<style scoped>\n",
              "    .dataframe tbody tr th:only-of-type {\n",
              "        vertical-align: middle;\n",
              "    }\n",
              "\n",
              "    .dataframe tbody tr th {\n",
              "        vertical-align: top;\n",
              "    }\n",
              "\n",
              "    .dataframe thead th {\n",
              "        text-align: right;\n",
              "    }\n",
              "</style>\n",
              "<table border=\"1\" class=\"dataframe\">\n",
              "  <thead>\n",
              "    <tr style=\"text-align: right;\">\n",
              "      <th></th>\n",
              "      <th>0</th>\n",
              "      <th>1</th>\n",
              "      <th>2</th>\n",
              "      <th>3</th>\n",
              "    </tr>\n",
              "  </thead>\n",
              "  <tbody>\n",
              "    <tr>\n",
              "      <th>0</th>\n",
              "      <td>0</td>\n",
              "      <td>12</td>\n",
              "      <td>0</td>\n",
              "      <td>3</td>\n",
              "    </tr>\n",
              "    <tr>\n",
              "      <th>1</th>\n",
              "      <td>12</td>\n",
              "      <td>0</td>\n",
              "      <td>10</td>\n",
              "      <td>15</td>\n",
              "    </tr>\n",
              "    <tr>\n",
              "      <th>2</th>\n",
              "      <td>0</td>\n",
              "      <td>10</td>\n",
              "      <td>0</td>\n",
              "      <td>7</td>\n",
              "    </tr>\n",
              "    <tr>\n",
              "      <th>3</th>\n",
              "      <td>3</td>\n",
              "      <td>15</td>\n",
              "      <td>7</td>\n",
              "      <td>0</td>\n",
              "    </tr>\n",
              "  </tbody>\n",
              "</table>\n",
              "</div>\n",
              "    <div class=\"colab-df-buttons\">\n",
              "\n",
              "  <div class=\"colab-df-container\">\n",
              "    <button class=\"colab-df-convert\" onclick=\"convertToInteractive('df-2c47d428-ccc1-4528-908e-2c322d67c3fd')\"\n",
              "            title=\"Convert this dataframe to an interactive table.\"\n",
              "            style=\"display:none;\">\n",
              "\n",
              "  <svg xmlns=\"http://www.w3.org/2000/svg\" height=\"24px\" viewBox=\"0 -960 960 960\">\n",
              "    <path d=\"M120-120v-720h720v720H120Zm60-500h600v-160H180v160Zm220 220h160v-160H400v160Zm0 220h160v-160H400v160ZM180-400h160v-160H180v160Zm440 0h160v-160H620v160ZM180-180h160v-160H180v160Zm440 0h160v-160H620v160Z\"/>\n",
              "  </svg>\n",
              "    </button>\n",
              "\n",
              "  <style>\n",
              "    .colab-df-container {\n",
              "      display:flex;\n",
              "      gap: 12px;\n",
              "    }\n",
              "\n",
              "    .colab-df-convert {\n",
              "      background-color: #E8F0FE;\n",
              "      border: none;\n",
              "      border-radius: 50%;\n",
              "      cursor: pointer;\n",
              "      display: none;\n",
              "      fill: #1967D2;\n",
              "      height: 32px;\n",
              "      padding: 0 0 0 0;\n",
              "      width: 32px;\n",
              "    }\n",
              "\n",
              "    .colab-df-convert:hover {\n",
              "      background-color: #E2EBFA;\n",
              "      box-shadow: 0px 1px 2px rgba(60, 64, 67, 0.3), 0px 1px 3px 1px rgba(60, 64, 67, 0.15);\n",
              "      fill: #174EA6;\n",
              "    }\n",
              "\n",
              "    .colab-df-buttons div {\n",
              "      margin-bottom: 4px;\n",
              "    }\n",
              "\n",
              "    [theme=dark] .colab-df-convert {\n",
              "      background-color: #3B4455;\n",
              "      fill: #D2E3FC;\n",
              "    }\n",
              "\n",
              "    [theme=dark] .colab-df-convert:hover {\n",
              "      background-color: #434B5C;\n",
              "      box-shadow: 0px 1px 3px 1px rgba(0, 0, 0, 0.15);\n",
              "      filter: drop-shadow(0px 1px 2px rgba(0, 0, 0, 0.3));\n",
              "      fill: #FFFFFF;\n",
              "    }\n",
              "  </style>\n",
              "\n",
              "    <script>\n",
              "      const buttonEl =\n",
              "        document.querySelector('#df-2c47d428-ccc1-4528-908e-2c322d67c3fd button.colab-df-convert');\n",
              "      buttonEl.style.display =\n",
              "        google.colab.kernel.accessAllowed ? 'block' : 'none';\n",
              "\n",
              "      async function convertToInteractive(key) {\n",
              "        const element = document.querySelector('#df-2c47d428-ccc1-4528-908e-2c322d67c3fd');\n",
              "        const dataTable =\n",
              "          await google.colab.kernel.invokeFunction('convertToInteractive',\n",
              "                                                    [key], {});\n",
              "        if (!dataTable) return;\n",
              "\n",
              "        const docLinkHtml = 'Like what you see? Visit the ' +\n",
              "          '<a target=\"_blank\" href=https://colab.research.google.com/notebooks/data_table.ipynb>data table notebook</a>'\n",
              "          + ' to learn more about interactive tables.';\n",
              "        element.innerHTML = '';\n",
              "        dataTable['output_type'] = 'display_data';\n",
              "        await google.colab.output.renderOutput(dataTable, element);\n",
              "        const docLink = document.createElement('div');\n",
              "        docLink.innerHTML = docLinkHtml;\n",
              "        element.appendChild(docLink);\n",
              "      }\n",
              "    </script>\n",
              "  </div>\n",
              "\n",
              "\n",
              "<div id=\"df-ffac5ba3-6016-4edb-b330-06f65929749f\">\n",
              "  <button class=\"colab-df-quickchart\" onclick=\"quickchart('df-ffac5ba3-6016-4edb-b330-06f65929749f')\"\n",
              "            title=\"Suggest charts\"\n",
              "            style=\"display:none;\">\n",
              "\n",
              "<svg xmlns=\"http://www.w3.org/2000/svg\" height=\"24px\"viewBox=\"0 0 24 24\"\n",
              "     width=\"24px\">\n",
              "    <g>\n",
              "        <path d=\"M19 3H5c-1.1 0-2 .9-2 2v14c0 1.1.9 2 2 2h14c1.1 0 2-.9 2-2V5c0-1.1-.9-2-2-2zM9 17H7v-7h2v7zm4 0h-2V7h2v10zm4 0h-2v-4h2v4z\"/>\n",
              "    </g>\n",
              "</svg>\n",
              "  </button>\n",
              "\n",
              "<style>\n",
              "  .colab-df-quickchart {\n",
              "      --bg-color: #E8F0FE;\n",
              "      --fill-color: #1967D2;\n",
              "      --hover-bg-color: #E2EBFA;\n",
              "      --hover-fill-color: #174EA6;\n",
              "      --disabled-fill-color: #AAA;\n",
              "      --disabled-bg-color: #DDD;\n",
              "  }\n",
              "\n",
              "  [theme=dark] .colab-df-quickchart {\n",
              "      --bg-color: #3B4455;\n",
              "      --fill-color: #D2E3FC;\n",
              "      --hover-bg-color: #434B5C;\n",
              "      --hover-fill-color: #FFFFFF;\n",
              "      --disabled-bg-color: #3B4455;\n",
              "      --disabled-fill-color: #666;\n",
              "  }\n",
              "\n",
              "  .colab-df-quickchart {\n",
              "    background-color: var(--bg-color);\n",
              "    border: none;\n",
              "    border-radius: 50%;\n",
              "    cursor: pointer;\n",
              "    display: none;\n",
              "    fill: var(--fill-color);\n",
              "    height: 32px;\n",
              "    padding: 0;\n",
              "    width: 32px;\n",
              "  }\n",
              "\n",
              "  .colab-df-quickchart:hover {\n",
              "    background-color: var(--hover-bg-color);\n",
              "    box-shadow: 0 1px 2px rgba(60, 64, 67, 0.3), 0 1px 3px 1px rgba(60, 64, 67, 0.15);\n",
              "    fill: var(--button-hover-fill-color);\n",
              "  }\n",
              "\n",
              "  .colab-df-quickchart-complete:disabled,\n",
              "  .colab-df-quickchart-complete:disabled:hover {\n",
              "    background-color: var(--disabled-bg-color);\n",
              "    fill: var(--disabled-fill-color);\n",
              "    box-shadow: none;\n",
              "  }\n",
              "\n",
              "  .colab-df-spinner {\n",
              "    border: 2px solid var(--fill-color);\n",
              "    border-color: transparent;\n",
              "    border-bottom-color: var(--fill-color);\n",
              "    animation:\n",
              "      spin 1s steps(1) infinite;\n",
              "  }\n",
              "\n",
              "  @keyframes spin {\n",
              "    0% {\n",
              "      border-color: transparent;\n",
              "      border-bottom-color: var(--fill-color);\n",
              "      border-left-color: var(--fill-color);\n",
              "    }\n",
              "    20% {\n",
              "      border-color: transparent;\n",
              "      border-left-color: var(--fill-color);\n",
              "      border-top-color: var(--fill-color);\n",
              "    }\n",
              "    30% {\n",
              "      border-color: transparent;\n",
              "      border-left-color: var(--fill-color);\n",
              "      border-top-color: var(--fill-color);\n",
              "      border-right-color: var(--fill-color);\n",
              "    }\n",
              "    40% {\n",
              "      border-color: transparent;\n",
              "      border-right-color: var(--fill-color);\n",
              "      border-top-color: var(--fill-color);\n",
              "    }\n",
              "    60% {\n",
              "      border-color: transparent;\n",
              "      border-right-color: var(--fill-color);\n",
              "    }\n",
              "    80% {\n",
              "      border-color: transparent;\n",
              "      border-right-color: var(--fill-color);\n",
              "      border-bottom-color: var(--fill-color);\n",
              "    }\n",
              "    90% {\n",
              "      border-color: transparent;\n",
              "      border-bottom-color: var(--fill-color);\n",
              "    }\n",
              "  }\n",
              "</style>\n",
              "\n",
              "  <script>\n",
              "    async function quickchart(key) {\n",
              "      const quickchartButtonEl =\n",
              "        document.querySelector('#' + key + ' button');\n",
              "      quickchartButtonEl.disabled = true;  // To prevent multiple clicks.\n",
              "      quickchartButtonEl.classList.add('colab-df-spinner');\n",
              "      try {\n",
              "        const charts = await google.colab.kernel.invokeFunction(\n",
              "            'suggestCharts', [key], {});\n",
              "      } catch (error) {\n",
              "        console.error('Error during call to suggestCharts:', error);\n",
              "      }\n",
              "      quickchartButtonEl.classList.remove('colab-df-spinner');\n",
              "      quickchartButtonEl.classList.add('colab-df-quickchart-complete');\n",
              "    }\n",
              "    (() => {\n",
              "      let quickchartButtonEl =\n",
              "        document.querySelector('#df-ffac5ba3-6016-4edb-b330-06f65929749f button');\n",
              "      quickchartButtonEl.style.display =\n",
              "        google.colab.kernel.accessAllowed ? 'block' : 'none';\n",
              "    })();\n",
              "  </script>\n",
              "</div>\n",
              "\n",
              "  <div id=\"id_b123039f-770d-434b-ac9d-2cdc83ef45c6\">\n",
              "    <style>\n",
              "      .colab-df-generate {\n",
              "        background-color: #E8F0FE;\n",
              "        border: none;\n",
              "        border-radius: 50%;\n",
              "        cursor: pointer;\n",
              "        display: none;\n",
              "        fill: #1967D2;\n",
              "        height: 32px;\n",
              "        padding: 0 0 0 0;\n",
              "        width: 32px;\n",
              "      }\n",
              "\n",
              "      .colab-df-generate:hover {\n",
              "        background-color: #E2EBFA;\n",
              "        box-shadow: 0px 1px 2px rgba(60, 64, 67, 0.3), 0px 1px 3px 1px rgba(60, 64, 67, 0.15);\n",
              "        fill: #174EA6;\n",
              "      }\n",
              "\n",
              "      [theme=dark] .colab-df-generate {\n",
              "        background-color: #3B4455;\n",
              "        fill: #D2E3FC;\n",
              "      }\n",
              "\n",
              "      [theme=dark] .colab-df-generate:hover {\n",
              "        background-color: #434B5C;\n",
              "        box-shadow: 0px 1px 3px 1px rgba(0, 0, 0, 0.15);\n",
              "        filter: drop-shadow(0px 1px 2px rgba(0, 0, 0, 0.3));\n",
              "        fill: #FFFFFF;\n",
              "      }\n",
              "    </style>\n",
              "    <button class=\"colab-df-generate\" onclick=\"generateWithVariable('D0')\"\n",
              "            title=\"Generate code using this dataframe.\"\n",
              "            style=\"display:none;\">\n",
              "\n",
              "  <svg xmlns=\"http://www.w3.org/2000/svg\" height=\"24px\"viewBox=\"0 0 24 24\"\n",
              "       width=\"24px\">\n",
              "    <path d=\"M7,19H8.4L18.45,9,17,7.55,7,17.6ZM5,21V16.75L18.45,3.32a2,2,0,0,1,2.83,0l1.4,1.43a1.91,1.91,0,0,1,.58,1.4,1.91,1.91,0,0,1-.58,1.4L9.25,21ZM18.45,9,17,7.55Zm-12,3A5.31,5.31,0,0,0,4.9,8.1,5.31,5.31,0,0,0,1,6.5,5.31,5.31,0,0,0,4.9,4.9,5.31,5.31,0,0,0,6.5,1,5.31,5.31,0,0,0,8.1,4.9,5.31,5.31,0,0,0,12,6.5,5.46,5.46,0,0,0,6.5,12Z\"/>\n",
              "  </svg>\n",
              "    </button>\n",
              "    <script>\n",
              "      (() => {\n",
              "      const buttonEl =\n",
              "        document.querySelector('#id_b123039f-770d-434b-ac9d-2cdc83ef45c6 button.colab-df-generate');\n",
              "      buttonEl.style.display =\n",
              "        google.colab.kernel.accessAllowed ? 'block' : 'none';\n",
              "\n",
              "      buttonEl.onclick = () => {\n",
              "        google.colab.notebook.generateWithVariable('D0');\n",
              "      }\n",
              "      })();\n",
              "    </script>\n",
              "  </div>\n",
              "\n",
              "    </div>\n",
              "  </div>\n"
            ],
            "text/plain": [
              "    0   1   2   3\n",
              "0   0  12   0   3\n",
              "1  12   0  10  15\n",
              "2   0  10   0   7\n",
              "3   3  15   7   0"
            ]
          },
          "execution_count": 46,
          "metadata": {},
          "output_type": "execute_result"
        }
      ],
      "source": [
        "D0"
      ]
    },
    {
      "cell_type": "code",
      "execution_count": null,
      "metadata": {
        "id": "PBsfX-tjHY5_"
      },
      "outputs": [],
      "source": [
        "path_file = \"\"\n",
        "files_list = [\n",
        "    '1anf.corr_1.txt',\n",
        "    # '1ez9.corr_1.txt',\n",
        "    # '1fqa.corr_2.txt',\n",
        "    # '1fqb.corr_3.txt',\n",
        "    # '1fqc.corr_2.txt',\n",
        "    # '1fqd.corr_3.txt',\n",
        "    # '1jw4.corr_4.txt',\n",
        "    # '1jw5.corr_5.txt',\n",
        "    # '1lls.corr_6.txt',\n",
        "    # '1mpd.corr_4.txt',\n",
        "    # '1omp.corr_7.txt',\n",
        "    # '3hpi.corr_5.txt',\n",
        "    # '3mbp.corr_6.txt',\n",
        "    # '4mbp.corr_7.txt'\n",
        "]\n",
        "\n",
        "corr_list = [pd.read_csv(path_file + u,\n",
        "                         header = None,\n",
        "                         delim_whitespace = True) for u in files_list]\n",
        "\n",
        "dist_list = [ 1- np.abs(c) for c in corr_list]"
      ]
    },
    {
      "cell_type": "code",
      "execution_count": null,
      "metadata": {
        "colab": {
          "base_uri": "https://localhost:8080/"
        },
        "id": "dKIHYVOuIajC",
        "outputId": "c1ea2c27-a2f4-48c4-a3ff-2937d0a96419"
      },
      "outputs": [
        {
          "data": {
            "text/plain": [
              "[          0         1         2         3         4         5         6    \\\n",
              " 0    0.000000  0.076200  0.171364  0.378207  0.461747  0.493499  0.478665   \n",
              " 1    0.076200  0.000000  0.122763  0.233837  0.350744  0.406213  0.425202   \n",
              " 2    0.171364  0.122763  0.000000  0.084642  0.131528  0.148980  0.162259   \n",
              " 3    0.378207  0.233837  0.084642  0.000000  0.045478  0.132107  0.217299   \n",
              " 4    0.461747  0.350744  0.131528  0.045478  0.000000  0.059280  0.146850   \n",
              " ..        ...       ...       ...       ...       ...       ...       ...   \n",
              " 365  0.686334  0.808770  0.740322  0.856491  0.874522  0.876637  0.828395   \n",
              " 366  0.640850  0.754748  0.667525  0.797437  0.804538  0.784507  0.725084   \n",
              " 367  0.617944  0.730646  0.653546  0.781044  0.779865  0.764810  0.708232   \n",
              " 368  0.695108  0.804961  0.742430  0.842591  0.841695  0.847983  0.810339   \n",
              " 369  0.748451  0.848953  0.766030  0.858435  0.849836  0.845652  0.810207   \n",
              " \n",
              "           7         8         9    ...       360       361       362  \\\n",
              " 0    0.432338  0.568455  0.639504  ...  0.694159  0.723059  0.660802   \n",
              " 1    0.381799  0.541636  0.646580  ...  0.817461  0.844610  0.781266   \n",
              " 2    0.164105  0.333175  0.480605  ...  0.782234  0.813481  0.718610   \n",
              " 3    0.293902  0.494307  0.675635  ...  0.913930  0.929677  0.853475   \n",
              " 4    0.297257  0.511751  0.734412  ...  0.967195  0.979578  0.889375   \n",
              " ..        ...       ...       ...  ...       ...       ...       ...   \n",
              " 365  0.785266  0.760684  0.737995  ...  0.226047  0.152656  0.101207   \n",
              " 366  0.684806  0.668724  0.673082  ...  0.300218  0.248775  0.131602   \n",
              " 367  0.694667  0.695173  0.726602  ...  0.398335  0.343378  0.232286   \n",
              " 368  0.810385  0.811014  0.831445  ...  0.500436  0.406984  0.335289   \n",
              " 369  0.804075  0.796648  0.814286  ...  0.559475  0.458730  0.357761   \n",
              " \n",
              "           363       364       365       366       367       368       369  \n",
              " 0    0.614051  0.660601  0.686334  0.640850  0.617944  0.695108  0.748451  \n",
              " 1    0.740222  0.793586  0.808770  0.754748  0.730646  0.804961  0.848953  \n",
              " 2    0.666239  0.742311  0.740322  0.667525  0.653546  0.742430  0.766030  \n",
              " 3    0.813717  0.868041  0.856491  0.797437  0.781044  0.842591  0.858435  \n",
              " 4    0.841519  0.895967  0.874522  0.804538  0.779865  0.841695  0.849836  \n",
              " ..        ...       ...       ...       ...       ...       ...       ...  \n",
              " 365  0.083466  0.030617  0.000000  0.036028  0.066943  0.086245  0.105969  \n",
              " 366  0.079803  0.087830  0.036028  0.000000  0.029610  0.098954  0.089094  \n",
              " 367  0.143787  0.107557  0.066943  0.029610  0.000000  0.043067  0.067151  \n",
              " 368  0.263311  0.145800  0.086245  0.098954  0.043067  0.000000  0.035273  \n",
              " 369  0.296425  0.211201  0.105969  0.089094  0.067151  0.035273  0.000000  \n",
              " \n",
              " [370 rows x 370 columns]]"
            ]
          },
          "execution_count": 60,
          "metadata": {},
          "output_type": "execute_result"
        }
      ],
      "source": [
        "dist_list"
      ]
    },
    {
      "cell_type": "code",
      "execution_count": null,
      "metadata": {
        "id": "CTOeM7F-I18q"
      },
      "outputs": [],
      "source": [
        "D0 = dist_list[0]\n"
      ]
    },
    {
      "cell_type": "code",
      "execution_count": null,
      "metadata": {
        "colab": {
          "base_uri": "https://localhost:8080/",
          "height": 444
        },
        "id": "J_dpTgdBI3T4",
        "outputId": "e3e1b6a3-b1b5-45cf-d8bb-5ff26cb43919"
      },
      "outputs": [
        {
          "data": {
            "application/vnd.google.colaboratory.intrinsic+json": {
              "type": "dataframe",
              "variable_name": "D0"
            },
            "text/html": [
              "\n",
              "  <div id=\"df-58a691ef-60ed-4deb-a7dc-ad40470d687c\" class=\"colab-df-container\">\n",
              "    <div>\n",
              "<style scoped>\n",
              "    .dataframe tbody tr th:only-of-type {\n",
              "        vertical-align: middle;\n",
              "    }\n",
              "\n",
              "    .dataframe tbody tr th {\n",
              "        vertical-align: top;\n",
              "    }\n",
              "\n",
              "    .dataframe thead th {\n",
              "        text-align: right;\n",
              "    }\n",
              "</style>\n",
              "<table border=\"1\" class=\"dataframe\">\n",
              "  <thead>\n",
              "    <tr style=\"text-align: right;\">\n",
              "      <th></th>\n",
              "      <th>0</th>\n",
              "      <th>1</th>\n",
              "      <th>2</th>\n",
              "      <th>3</th>\n",
              "      <th>4</th>\n",
              "      <th>5</th>\n",
              "      <th>6</th>\n",
              "      <th>7</th>\n",
              "      <th>8</th>\n",
              "      <th>9</th>\n",
              "      <th>...</th>\n",
              "      <th>360</th>\n",
              "      <th>361</th>\n",
              "      <th>362</th>\n",
              "      <th>363</th>\n",
              "      <th>364</th>\n",
              "      <th>365</th>\n",
              "      <th>366</th>\n",
              "      <th>367</th>\n",
              "      <th>368</th>\n",
              "      <th>369</th>\n",
              "    </tr>\n",
              "  </thead>\n",
              "  <tbody>\n",
              "    <tr>\n",
              "      <th>0</th>\n",
              "      <td>0.000000</td>\n",
              "      <td>0.076200</td>\n",
              "      <td>0.171364</td>\n",
              "      <td>0.378207</td>\n",
              "      <td>0.461747</td>\n",
              "      <td>0.493499</td>\n",
              "      <td>0.478665</td>\n",
              "      <td>0.432338</td>\n",
              "      <td>0.568455</td>\n",
              "      <td>0.639504</td>\n",
              "      <td>...</td>\n",
              "      <td>0.694159</td>\n",
              "      <td>0.723059</td>\n",
              "      <td>0.660802</td>\n",
              "      <td>0.614051</td>\n",
              "      <td>0.660601</td>\n",
              "      <td>0.686334</td>\n",
              "      <td>0.640850</td>\n",
              "      <td>0.617944</td>\n",
              "      <td>0.695108</td>\n",
              "      <td>0.748451</td>\n",
              "    </tr>\n",
              "    <tr>\n",
              "      <th>1</th>\n",
              "      <td>0.076200</td>\n",
              "      <td>0.000000</td>\n",
              "      <td>0.122763</td>\n",
              "      <td>0.233837</td>\n",
              "      <td>0.350744</td>\n",
              "      <td>0.406213</td>\n",
              "      <td>0.425202</td>\n",
              "      <td>0.381799</td>\n",
              "      <td>0.541636</td>\n",
              "      <td>0.646580</td>\n",
              "      <td>...</td>\n",
              "      <td>0.817461</td>\n",
              "      <td>0.844610</td>\n",
              "      <td>0.781266</td>\n",
              "      <td>0.740222</td>\n",
              "      <td>0.793586</td>\n",
              "      <td>0.808770</td>\n",
              "      <td>0.754748</td>\n",
              "      <td>0.730646</td>\n",
              "      <td>0.804961</td>\n",
              "      <td>0.848953</td>\n",
              "    </tr>\n",
              "    <tr>\n",
              "      <th>2</th>\n",
              "      <td>0.171364</td>\n",
              "      <td>0.122763</td>\n",
              "      <td>0.000000</td>\n",
              "      <td>0.084642</td>\n",
              "      <td>0.131528</td>\n",
              "      <td>0.148980</td>\n",
              "      <td>0.162259</td>\n",
              "      <td>0.164105</td>\n",
              "      <td>0.333175</td>\n",
              "      <td>0.480605</td>\n",
              "      <td>...</td>\n",
              "      <td>0.782234</td>\n",
              "      <td>0.813481</td>\n",
              "      <td>0.718610</td>\n",
              "      <td>0.666239</td>\n",
              "      <td>0.742311</td>\n",
              "      <td>0.740322</td>\n",
              "      <td>0.667525</td>\n",
              "      <td>0.653546</td>\n",
              "      <td>0.742430</td>\n",
              "      <td>0.766030</td>\n",
              "    </tr>\n",
              "    <tr>\n",
              "      <th>3</th>\n",
              "      <td>0.378207</td>\n",
              "      <td>0.233837</td>\n",
              "      <td>0.084642</td>\n",
              "      <td>0.000000</td>\n",
              "      <td>0.045478</td>\n",
              "      <td>0.132107</td>\n",
              "      <td>0.217299</td>\n",
              "      <td>0.293902</td>\n",
              "      <td>0.494307</td>\n",
              "      <td>0.675635</td>\n",
              "      <td>...</td>\n",
              "      <td>0.913930</td>\n",
              "      <td>0.929677</td>\n",
              "      <td>0.853475</td>\n",
              "      <td>0.813717</td>\n",
              "      <td>0.868041</td>\n",
              "      <td>0.856491</td>\n",
              "      <td>0.797437</td>\n",
              "      <td>0.781044</td>\n",
              "      <td>0.842591</td>\n",
              "      <td>0.858435</td>\n",
              "    </tr>\n",
              "    <tr>\n",
              "      <th>4</th>\n",
              "      <td>0.461747</td>\n",
              "      <td>0.350744</td>\n",
              "      <td>0.131528</td>\n",
              "      <td>0.045478</td>\n",
              "      <td>0.000000</td>\n",
              "      <td>0.059280</td>\n",
              "      <td>0.146850</td>\n",
              "      <td>0.297257</td>\n",
              "      <td>0.511751</td>\n",
              "      <td>0.734412</td>\n",
              "      <td>...</td>\n",
              "      <td>0.967195</td>\n",
              "      <td>0.979578</td>\n",
              "      <td>0.889375</td>\n",
              "      <td>0.841519</td>\n",
              "      <td>0.895967</td>\n",
              "      <td>0.874522</td>\n",
              "      <td>0.804538</td>\n",
              "      <td>0.779865</td>\n",
              "      <td>0.841695</td>\n",
              "      <td>0.849836</td>\n",
              "    </tr>\n",
              "    <tr>\n",
              "      <th>...</th>\n",
              "      <td>...</td>\n",
              "      <td>...</td>\n",
              "      <td>...</td>\n",
              "      <td>...</td>\n",
              "      <td>...</td>\n",
              "      <td>...</td>\n",
              "      <td>...</td>\n",
              "      <td>...</td>\n",
              "      <td>...</td>\n",
              "      <td>...</td>\n",
              "      <td>...</td>\n",
              "      <td>...</td>\n",
              "      <td>...</td>\n",
              "      <td>...</td>\n",
              "      <td>...</td>\n",
              "      <td>...</td>\n",
              "      <td>...</td>\n",
              "      <td>...</td>\n",
              "      <td>...</td>\n",
              "      <td>...</td>\n",
              "      <td>...</td>\n",
              "    </tr>\n",
              "    <tr>\n",
              "      <th>365</th>\n",
              "      <td>0.686334</td>\n",
              "      <td>0.808770</td>\n",
              "      <td>0.740322</td>\n",
              "      <td>0.856491</td>\n",
              "      <td>0.874522</td>\n",
              "      <td>0.876637</td>\n",
              "      <td>0.828395</td>\n",
              "      <td>0.785266</td>\n",
              "      <td>0.760684</td>\n",
              "      <td>0.737995</td>\n",
              "      <td>...</td>\n",
              "      <td>0.226047</td>\n",
              "      <td>0.152656</td>\n",
              "      <td>0.101207</td>\n",
              "      <td>0.083466</td>\n",
              "      <td>0.030617</td>\n",
              "      <td>0.000000</td>\n",
              "      <td>0.036028</td>\n",
              "      <td>0.066943</td>\n",
              "      <td>0.086245</td>\n",
              "      <td>0.105969</td>\n",
              "    </tr>\n",
              "    <tr>\n",
              "      <th>366</th>\n",
              "      <td>0.640850</td>\n",
              "      <td>0.754748</td>\n",
              "      <td>0.667525</td>\n",
              "      <td>0.797437</td>\n",
              "      <td>0.804538</td>\n",
              "      <td>0.784507</td>\n",
              "      <td>0.725084</td>\n",
              "      <td>0.684806</td>\n",
              "      <td>0.668724</td>\n",
              "      <td>0.673082</td>\n",
              "      <td>...</td>\n",
              "      <td>0.300218</td>\n",
              "      <td>0.248775</td>\n",
              "      <td>0.131602</td>\n",
              "      <td>0.079803</td>\n",
              "      <td>0.087830</td>\n",
              "      <td>0.036028</td>\n",
              "      <td>0.000000</td>\n",
              "      <td>0.029610</td>\n",
              "      <td>0.098954</td>\n",
              "      <td>0.089094</td>\n",
              "    </tr>\n",
              "    <tr>\n",
              "      <th>367</th>\n",
              "      <td>0.617944</td>\n",
              "      <td>0.730646</td>\n",
              "      <td>0.653546</td>\n",
              "      <td>0.781044</td>\n",
              "      <td>0.779865</td>\n",
              "      <td>0.764810</td>\n",
              "      <td>0.708232</td>\n",
              "      <td>0.694667</td>\n",
              "      <td>0.695173</td>\n",
              "      <td>0.726602</td>\n",
              "      <td>...</td>\n",
              "      <td>0.398335</td>\n",
              "      <td>0.343378</td>\n",
              "      <td>0.232286</td>\n",
              "      <td>0.143787</td>\n",
              "      <td>0.107557</td>\n",
              "      <td>0.066943</td>\n",
              "      <td>0.029610</td>\n",
              "      <td>0.000000</td>\n",
              "      <td>0.043067</td>\n",
              "      <td>0.067151</td>\n",
              "    </tr>\n",
              "    <tr>\n",
              "      <th>368</th>\n",
              "      <td>0.695108</td>\n",
              "      <td>0.804961</td>\n",
              "      <td>0.742430</td>\n",
              "      <td>0.842591</td>\n",
              "      <td>0.841695</td>\n",
              "      <td>0.847983</td>\n",
              "      <td>0.810339</td>\n",
              "      <td>0.810385</td>\n",
              "      <td>0.811014</td>\n",
              "      <td>0.831445</td>\n",
              "      <td>...</td>\n",
              "      <td>0.500436</td>\n",
              "      <td>0.406984</td>\n",
              "      <td>0.335289</td>\n",
              "      <td>0.263311</td>\n",
              "      <td>0.145800</td>\n",
              "      <td>0.086245</td>\n",
              "      <td>0.098954</td>\n",
              "      <td>0.043067</td>\n",
              "      <td>0.000000</td>\n",
              "      <td>0.035273</td>\n",
              "    </tr>\n",
              "    <tr>\n",
              "      <th>369</th>\n",
              "      <td>0.748451</td>\n",
              "      <td>0.848953</td>\n",
              "      <td>0.766030</td>\n",
              "      <td>0.858435</td>\n",
              "      <td>0.849836</td>\n",
              "      <td>0.845652</td>\n",
              "      <td>0.810207</td>\n",
              "      <td>0.804075</td>\n",
              "      <td>0.796648</td>\n",
              "      <td>0.814286</td>\n",
              "      <td>...</td>\n",
              "      <td>0.559475</td>\n",
              "      <td>0.458730</td>\n",
              "      <td>0.357761</td>\n",
              "      <td>0.296425</td>\n",
              "      <td>0.211201</td>\n",
              "      <td>0.105969</td>\n",
              "      <td>0.089094</td>\n",
              "      <td>0.067151</td>\n",
              "      <td>0.035273</td>\n",
              "      <td>0.000000</td>\n",
              "    </tr>\n",
              "  </tbody>\n",
              "</table>\n",
              "<p>370 rows × 370 columns</p>\n",
              "</div>\n",
              "    <div class=\"colab-df-buttons\">\n",
              "\n",
              "  <div class=\"colab-df-container\">\n",
              "    <button class=\"colab-df-convert\" onclick=\"convertToInteractive('df-58a691ef-60ed-4deb-a7dc-ad40470d687c')\"\n",
              "            title=\"Convert this dataframe to an interactive table.\"\n",
              "            style=\"display:none;\">\n",
              "\n",
              "  <svg xmlns=\"http://www.w3.org/2000/svg\" height=\"24px\" viewBox=\"0 -960 960 960\">\n",
              "    <path d=\"M120-120v-720h720v720H120Zm60-500h600v-160H180v160Zm220 220h160v-160H400v160Zm0 220h160v-160H400v160ZM180-400h160v-160H180v160Zm440 0h160v-160H620v160ZM180-180h160v-160H180v160Zm440 0h160v-160H620v160Z\"/>\n",
              "  </svg>\n",
              "    </button>\n",
              "\n",
              "  <style>\n",
              "    .colab-df-container {\n",
              "      display:flex;\n",
              "      gap: 12px;\n",
              "    }\n",
              "\n",
              "    .colab-df-convert {\n",
              "      background-color: #E8F0FE;\n",
              "      border: none;\n",
              "      border-radius: 50%;\n",
              "      cursor: pointer;\n",
              "      display: none;\n",
              "      fill: #1967D2;\n",
              "      height: 32px;\n",
              "      padding: 0 0 0 0;\n",
              "      width: 32px;\n",
              "    }\n",
              "\n",
              "    .colab-df-convert:hover {\n",
              "      background-color: #E2EBFA;\n",
              "      box-shadow: 0px 1px 2px rgba(60, 64, 67, 0.3), 0px 1px 3px 1px rgba(60, 64, 67, 0.15);\n",
              "      fill: #174EA6;\n",
              "    }\n",
              "\n",
              "    .colab-df-buttons div {\n",
              "      margin-bottom: 4px;\n",
              "    }\n",
              "\n",
              "    [theme=dark] .colab-df-convert {\n",
              "      background-color: #3B4455;\n",
              "      fill: #D2E3FC;\n",
              "    }\n",
              "\n",
              "    [theme=dark] .colab-df-convert:hover {\n",
              "      background-color: #434B5C;\n",
              "      box-shadow: 0px 1px 3px 1px rgba(0, 0, 0, 0.15);\n",
              "      filter: drop-shadow(0px 1px 2px rgba(0, 0, 0, 0.3));\n",
              "      fill: #FFFFFF;\n",
              "    }\n",
              "  </style>\n",
              "\n",
              "    <script>\n",
              "      const buttonEl =\n",
              "        document.querySelector('#df-58a691ef-60ed-4deb-a7dc-ad40470d687c button.colab-df-convert');\n",
              "      buttonEl.style.display =\n",
              "        google.colab.kernel.accessAllowed ? 'block' : 'none';\n",
              "\n",
              "      async function convertToInteractive(key) {\n",
              "        const element = document.querySelector('#df-58a691ef-60ed-4deb-a7dc-ad40470d687c');\n",
              "        const dataTable =\n",
              "          await google.colab.kernel.invokeFunction('convertToInteractive',\n",
              "                                                    [key], {});\n",
              "        if (!dataTable) return;\n",
              "\n",
              "        const docLinkHtml = 'Like what you see? Visit the ' +\n",
              "          '<a target=\"_blank\" href=https://colab.research.google.com/notebooks/data_table.ipynb>data table notebook</a>'\n",
              "          + ' to learn more about interactive tables.';\n",
              "        element.innerHTML = '';\n",
              "        dataTable['output_type'] = 'display_data';\n",
              "        await google.colab.output.renderOutput(dataTable, element);\n",
              "        const docLink = document.createElement('div');\n",
              "        docLink.innerHTML = docLinkHtml;\n",
              "        element.appendChild(docLink);\n",
              "      }\n",
              "    </script>\n",
              "  </div>\n",
              "\n",
              "\n",
              "<div id=\"df-79e1d026-a65e-414c-a5d6-a2a13b814df0\">\n",
              "  <button class=\"colab-df-quickchart\" onclick=\"quickchart('df-79e1d026-a65e-414c-a5d6-a2a13b814df0')\"\n",
              "            title=\"Suggest charts\"\n",
              "            style=\"display:none;\">\n",
              "\n",
              "<svg xmlns=\"http://www.w3.org/2000/svg\" height=\"24px\"viewBox=\"0 0 24 24\"\n",
              "     width=\"24px\">\n",
              "    <g>\n",
              "        <path d=\"M19 3H5c-1.1 0-2 .9-2 2v14c0 1.1.9 2 2 2h14c1.1 0 2-.9 2-2V5c0-1.1-.9-2-2-2zM9 17H7v-7h2v7zm4 0h-2V7h2v10zm4 0h-2v-4h2v4z\"/>\n",
              "    </g>\n",
              "</svg>\n",
              "  </button>\n",
              "\n",
              "<style>\n",
              "  .colab-df-quickchart {\n",
              "      --bg-color: #E8F0FE;\n",
              "      --fill-color: #1967D2;\n",
              "      --hover-bg-color: #E2EBFA;\n",
              "      --hover-fill-color: #174EA6;\n",
              "      --disabled-fill-color: #AAA;\n",
              "      --disabled-bg-color: #DDD;\n",
              "  }\n",
              "\n",
              "  [theme=dark] .colab-df-quickchart {\n",
              "      --bg-color: #3B4455;\n",
              "      --fill-color: #D2E3FC;\n",
              "      --hover-bg-color: #434B5C;\n",
              "      --hover-fill-color: #FFFFFF;\n",
              "      --disabled-bg-color: #3B4455;\n",
              "      --disabled-fill-color: #666;\n",
              "  }\n",
              "\n",
              "  .colab-df-quickchart {\n",
              "    background-color: var(--bg-color);\n",
              "    border: none;\n",
              "    border-radius: 50%;\n",
              "    cursor: pointer;\n",
              "    display: none;\n",
              "    fill: var(--fill-color);\n",
              "    height: 32px;\n",
              "    padding: 0;\n",
              "    width: 32px;\n",
              "  }\n",
              "\n",
              "  .colab-df-quickchart:hover {\n",
              "    background-color: var(--hover-bg-color);\n",
              "    box-shadow: 0 1px 2px rgba(60, 64, 67, 0.3), 0 1px 3px 1px rgba(60, 64, 67, 0.15);\n",
              "    fill: var(--button-hover-fill-color);\n",
              "  }\n",
              "\n",
              "  .colab-df-quickchart-complete:disabled,\n",
              "  .colab-df-quickchart-complete:disabled:hover {\n",
              "    background-color: var(--disabled-bg-color);\n",
              "    fill: var(--disabled-fill-color);\n",
              "    box-shadow: none;\n",
              "  }\n",
              "\n",
              "  .colab-df-spinner {\n",
              "    border: 2px solid var(--fill-color);\n",
              "    border-color: transparent;\n",
              "    border-bottom-color: var(--fill-color);\n",
              "    animation:\n",
              "      spin 1s steps(1) infinite;\n",
              "  }\n",
              "\n",
              "  @keyframes spin {\n",
              "    0% {\n",
              "      border-color: transparent;\n",
              "      border-bottom-color: var(--fill-color);\n",
              "      border-left-color: var(--fill-color);\n",
              "    }\n",
              "    20% {\n",
              "      border-color: transparent;\n",
              "      border-left-color: var(--fill-color);\n",
              "      border-top-color: var(--fill-color);\n",
              "    }\n",
              "    30% {\n",
              "      border-color: transparent;\n",
              "      border-left-color: var(--fill-color);\n",
              "      border-top-color: var(--fill-color);\n",
              "      border-right-color: var(--fill-color);\n",
              "    }\n",
              "    40% {\n",
              "      border-color: transparent;\n",
              "      border-right-color: var(--fill-color);\n",
              "      border-top-color: var(--fill-color);\n",
              "    }\n",
              "    60% {\n",
              "      border-color: transparent;\n",
              "      border-right-color: var(--fill-color);\n",
              "    }\n",
              "    80% {\n",
              "      border-color: transparent;\n",
              "      border-right-color: var(--fill-color);\n",
              "      border-bottom-color: var(--fill-color);\n",
              "    }\n",
              "    90% {\n",
              "      border-color: transparent;\n",
              "      border-bottom-color: var(--fill-color);\n",
              "    }\n",
              "  }\n",
              "</style>\n",
              "\n",
              "  <script>\n",
              "    async function quickchart(key) {\n",
              "      const quickchartButtonEl =\n",
              "        document.querySelector('#' + key + ' button');\n",
              "      quickchartButtonEl.disabled = true;  // To prevent multiple clicks.\n",
              "      quickchartButtonEl.classList.add('colab-df-spinner');\n",
              "      try {\n",
              "        const charts = await google.colab.kernel.invokeFunction(\n",
              "            'suggestCharts', [key], {});\n",
              "      } catch (error) {\n",
              "        console.error('Error during call to suggestCharts:', error);\n",
              "      }\n",
              "      quickchartButtonEl.classList.remove('colab-df-spinner');\n",
              "      quickchartButtonEl.classList.add('colab-df-quickchart-complete');\n",
              "    }\n",
              "    (() => {\n",
              "      let quickchartButtonEl =\n",
              "        document.querySelector('#df-79e1d026-a65e-414c-a5d6-a2a13b814df0 button');\n",
              "      quickchartButtonEl.style.display =\n",
              "        google.colab.kernel.accessAllowed ? 'block' : 'none';\n",
              "    })();\n",
              "  </script>\n",
              "</div>\n",
              "\n",
              "  <div id=\"id_f03ca860-9ff0-410b-a49b-c8b923eab2c2\">\n",
              "    <style>\n",
              "      .colab-df-generate {\n",
              "        background-color: #E8F0FE;\n",
              "        border: none;\n",
              "        border-radius: 50%;\n",
              "        cursor: pointer;\n",
              "        display: none;\n",
              "        fill: #1967D2;\n",
              "        height: 32px;\n",
              "        padding: 0 0 0 0;\n",
              "        width: 32px;\n",
              "      }\n",
              "\n",
              "      .colab-df-generate:hover {\n",
              "        background-color: #E2EBFA;\n",
              "        box-shadow: 0px 1px 2px rgba(60, 64, 67, 0.3), 0px 1px 3px 1px rgba(60, 64, 67, 0.15);\n",
              "        fill: #174EA6;\n",
              "      }\n",
              "\n",
              "      [theme=dark] .colab-df-generate {\n",
              "        background-color: #3B4455;\n",
              "        fill: #D2E3FC;\n",
              "      }\n",
              "\n",
              "      [theme=dark] .colab-df-generate:hover {\n",
              "        background-color: #434B5C;\n",
              "        box-shadow: 0px 1px 3px 1px rgba(0, 0, 0, 0.15);\n",
              "        filter: drop-shadow(0px 1px 2px rgba(0, 0, 0, 0.3));\n",
              "        fill: #FFFFFF;\n",
              "      }\n",
              "    </style>\n",
              "    <button class=\"colab-df-generate\" onclick=\"generateWithVariable('D0')\"\n",
              "            title=\"Generate code using this dataframe.\"\n",
              "            style=\"display:none;\">\n",
              "\n",
              "  <svg xmlns=\"http://www.w3.org/2000/svg\" height=\"24px\"viewBox=\"0 0 24 24\"\n",
              "       width=\"24px\">\n",
              "    <path d=\"M7,19H8.4L18.45,9,17,7.55,7,17.6ZM5,21V16.75L18.45,3.32a2,2,0,0,1,2.83,0l1.4,1.43a1.91,1.91,0,0,1,.58,1.4,1.91,1.91,0,0,1-.58,1.4L9.25,21ZM18.45,9,17,7.55Zm-12,3A5.31,5.31,0,0,0,4.9,8.1,5.31,5.31,0,0,0,1,6.5,5.31,5.31,0,0,0,4.9,4.9,5.31,5.31,0,0,0,6.5,1,5.31,5.31,0,0,0,8.1,4.9,5.31,5.31,0,0,0,12,6.5,5.46,5.46,0,0,0,6.5,12Z\"/>\n",
              "  </svg>\n",
              "    </button>\n",
              "    <script>\n",
              "      (() => {\n",
              "      const buttonEl =\n",
              "        document.querySelector('#id_f03ca860-9ff0-410b-a49b-c8b923eab2c2 button.colab-df-generate');\n",
              "      buttonEl.style.display =\n",
              "        google.colab.kernel.accessAllowed ? 'block' : 'none';\n",
              "\n",
              "      buttonEl.onclick = () => {\n",
              "        google.colab.notebook.generateWithVariable('D0');\n",
              "      }\n",
              "      })();\n",
              "    </script>\n",
              "  </div>\n",
              "\n",
              "    </div>\n",
              "  </div>\n"
            ],
            "text/plain": [
              "          0         1         2         3         4         5         6    \\\n",
              "0    0.000000  0.076200  0.171364  0.378207  0.461747  0.493499  0.478665   \n",
              "1    0.076200  0.000000  0.122763  0.233837  0.350744  0.406213  0.425202   \n",
              "2    0.171364  0.122763  0.000000  0.084642  0.131528  0.148980  0.162259   \n",
              "3    0.378207  0.233837  0.084642  0.000000  0.045478  0.132107  0.217299   \n",
              "4    0.461747  0.350744  0.131528  0.045478  0.000000  0.059280  0.146850   \n",
              "..        ...       ...       ...       ...       ...       ...       ...   \n",
              "365  0.686334  0.808770  0.740322  0.856491  0.874522  0.876637  0.828395   \n",
              "366  0.640850  0.754748  0.667525  0.797437  0.804538  0.784507  0.725084   \n",
              "367  0.617944  0.730646  0.653546  0.781044  0.779865  0.764810  0.708232   \n",
              "368  0.695108  0.804961  0.742430  0.842591  0.841695  0.847983  0.810339   \n",
              "369  0.748451  0.848953  0.766030  0.858435  0.849836  0.845652  0.810207   \n",
              "\n",
              "          7         8         9    ...       360       361       362  \\\n",
              "0    0.432338  0.568455  0.639504  ...  0.694159  0.723059  0.660802   \n",
              "1    0.381799  0.541636  0.646580  ...  0.817461  0.844610  0.781266   \n",
              "2    0.164105  0.333175  0.480605  ...  0.782234  0.813481  0.718610   \n",
              "3    0.293902  0.494307  0.675635  ...  0.913930  0.929677  0.853475   \n",
              "4    0.297257  0.511751  0.734412  ...  0.967195  0.979578  0.889375   \n",
              "..        ...       ...       ...  ...       ...       ...       ...   \n",
              "365  0.785266  0.760684  0.737995  ...  0.226047  0.152656  0.101207   \n",
              "366  0.684806  0.668724  0.673082  ...  0.300218  0.248775  0.131602   \n",
              "367  0.694667  0.695173  0.726602  ...  0.398335  0.343378  0.232286   \n",
              "368  0.810385  0.811014  0.831445  ...  0.500436  0.406984  0.335289   \n",
              "369  0.804075  0.796648  0.814286  ...  0.559475  0.458730  0.357761   \n",
              "\n",
              "          363       364       365       366       367       368       369  \n",
              "0    0.614051  0.660601  0.686334  0.640850  0.617944  0.695108  0.748451  \n",
              "1    0.740222  0.793586  0.808770  0.754748  0.730646  0.804961  0.848953  \n",
              "2    0.666239  0.742311  0.740322  0.667525  0.653546  0.742430  0.766030  \n",
              "3    0.813717  0.868041  0.856491  0.797437  0.781044  0.842591  0.858435  \n",
              "4    0.841519  0.895967  0.874522  0.804538  0.779865  0.841695  0.849836  \n",
              "..        ...       ...       ...       ...       ...       ...       ...  \n",
              "365  0.083466  0.030617  0.000000  0.036028  0.066943  0.086245  0.105969  \n",
              "366  0.079803  0.087830  0.036028  0.000000  0.029610  0.098954  0.089094  \n",
              "367  0.143787  0.107557  0.066943  0.029610  0.000000  0.043067  0.067151  \n",
              "368  0.263311  0.145800  0.086245  0.098954  0.043067  0.000000  0.035273  \n",
              "369  0.296425  0.211201  0.105969  0.089094  0.067151  0.035273  0.000000  \n",
              "\n",
              "[370 rows x 370 columns]"
            ]
          },
          "execution_count": 62,
          "metadata": {},
          "output_type": "execute_result"
        }
      ],
      "source": [
        "D0"
      ]
    },
    {
      "cell_type": "code",
      "execution_count": null,
      "metadata": {
        "id": "ydE2tWvdJBcu"
      },
      "outputs": [],
      "source": [
        "D0sub = D0.values[np.ix_([0,1,2,3],[0,1,2,3])]"
      ]
    },
    {
      "cell_type": "code",
      "execution_count": null,
      "metadata": {
        "colab": {
          "base_uri": "https://localhost:8080/"
        },
        "id": "b3UX3XGcJQCq",
        "outputId": "84a701bf-d211-4a90-cd4e-8a11facd6a31"
      },
      "outputs": [
        {
          "data": {
            "text/plain": [
              "array([[0.        , 0.07620041, 0.17136432, 0.37820691],\n",
              "       [0.07620041, 0.        , 0.1227626 , 0.23383716],\n",
              "       [0.17136432, 0.1227626 , 0.        , 0.08464198],\n",
              "       [0.37820691, 0.23383716, 0.08464198, 0.        ]])"
            ]
          },
          "execution_count": 64,
          "metadata": {},
          "output_type": "execute_result"
        }
      ],
      "source": [
        "D0sub"
      ]
    },
    {
      "cell_type": "code",
      "execution_count": null,
      "metadata": {
        "id": "KCvACV1vK5Ju"
      },
      "outputs": [],
      "source": [
        "D0sub[0,2] = D0sub[2,0] = D0sub[1,3] = D0sub[3,1] = 200"
      ]
    },
    {
      "cell_type": "code",
      "execution_count": null,
      "metadata": {
        "colab": {
          "base_uri": "https://localhost:8080/"
        },
        "id": "3OE36JF4LKwR",
        "outputId": "8f582349-4a13-488a-8034-2e284910ab21"
      },
      "outputs": [
        {
          "data": {
            "text/plain": [
              "array([[0.0000000e+00, 7.6200410e-02, 2.0000000e+02, 3.7820691e-01],\n",
              "       [7.6200410e-02, 0.0000000e+00, 1.2276260e-01, 2.0000000e+02],\n",
              "       [2.0000000e+02, 1.2276260e-01, 0.0000000e+00, 8.4641980e-02],\n",
              "       [3.7820691e-01, 2.0000000e+02, 8.4641980e-02, 0.0000000e+00]])"
            ]
          },
          "execution_count": 84,
          "metadata": {},
          "output_type": "execute_result"
        }
      ],
      "source": [
        "D0sub"
      ]
    },
    {
      "cell_type": "code",
      "execution_count": null,
      "metadata": {
        "id": "01iHcmHUKVrs"
      },
      "outputs": [],
      "source": [
        "D0sub1 = np.array([[0.        , 0.07620041, 0., 0.37820691],\n",
        "                    [0.07620041, 0.        , 0.1227626 , 0.],\n",
        "                    [0., 0.1227626 , 0.        , 0.08464198],\n",
        "                    [0.37820691, 0., 0.08464198, 0.        ]])"
      ]
    },
    {
      "cell_type": "code",
      "execution_count": null,
      "metadata": {
        "colab": {
          "base_uri": "https://localhost:8080/"
        },
        "id": "hAbX0cbgKjRD",
        "outputId": "6f6eedb0-f862-40f2-8ebf-c57d30c1b7a6"
      },
      "outputs": [
        {
          "data": {
            "text/plain": [
              "array([[0.        , 0.07620041, 0.        , 0.37820691],\n",
              "       [0.07620041, 0.        , 0.1227626 , 0.        ],\n",
              "       [0.        , 0.1227626 , 0.        , 0.08464198],\n",
              "       [0.37820691, 0.        , 0.08464198, 0.        ]])"
            ]
          },
          "execution_count": 71,
          "metadata": {},
          "output_type": "execute_result"
        }
      ],
      "source": [
        "D0sub1"
      ]
    },
    {
      "cell_type": "code",
      "execution_count": null,
      "metadata": {
        "id": "BaE7JFA_C5mo"
      },
      "outputs": [],
      "source": [
        "skeleton_protein0 = gd.RipsComplex(\n",
        "    distance_matrix = Ad,\n",
        "    max_edge_length = 1\n",
        ")\n",
        "\n",
        "Rips_simplex_tree_protein0 = skeleton_protein0.create_simplex_tree(max_dimension = 2)"
      ]
    },
    {
      "cell_type": "code",
      "execution_count": null,
      "metadata": {
        "id": "n1vwWwLLDrTF"
      },
      "outputs": [],
      "source": [
        "BarCodes_Rips0 = Rips_simplex_tree_protein0.persistence()\n"
      ]
    },
    {
      "cell_type": "code",
      "execution_count": null,
      "metadata": {
        "colab": {
          "base_uri": "https://localhost:8080/"
        },
        "id": "_JwCiFy1D4HP",
        "outputId": "34c3ace4-af66-41b9-bbbc-a5e1b9d676ac"
      },
      "outputs": [
        {
          "data": {
            "text/plain": [
              "array([[0.        , 0.07620041],\n",
              "       [0.        , 0.08464198],\n",
              "       [0.        , 0.1227626 ],\n",
              "       [0.        ,        inf]])"
            ]
          },
          "execution_count": 87,
          "metadata": {},
          "output_type": "execute_result"
        }
      ],
      "source": [
        "Rips_simplex_tree_protein0.persistence_intervals_in_dimension(0)"
      ]
    },
    {
      "cell_type": "code",
      "execution_count": null,
      "metadata": {
        "colab": {
          "base_uri": "https://localhost:8080/"
        },
        "id": "B2KK43T6EAb9",
        "outputId": "f11bb5bd-a4ca-4355-bc47-0d45d24cec99"
      },
      "outputs": [
        {
          "data": {
            "text/plain": [
              "array([], shape=(0, 2), dtype=float64)"
            ]
          },
          "execution_count": 88,
          "metadata": {},
          "output_type": "execute_result"
        }
      ],
      "source": [
        "Rips_simplex_tree_protein0.persistence_intervals_in_dimension(1)"
      ]
    },
    {
      "cell_type": "code",
      "execution_count": null,
      "metadata": {
        "colab": {
          "base_uri": "https://localhost:8080/",
          "height": 480
        },
        "id": "lur6kOXNEg8C",
        "outputId": "d7649f7c-0abf-41c1-ab69-60f5b7b63cd6"
      },
      "outputs": [
        {
          "data": {
            "image/png": "[encoded data removed]",
            "text/plain": [
              "<Figure size 640x480 with 1 Axes>"
            ]
          },
          "metadata": {},
          "output_type": "display_data"
        }
      ],
      "source": [
        "gd.plot_persistence_diagram(BarCodes_Rips0);"
      ]
    },
    {
      "cell_type": "markdown",
      "metadata": {
        "id": "mdInwqMQdi2J"
      },
      "source": [
        "# Now trying with networkx\n",
        "\n",
        "Making a new class for temporal graph, with the graph being stored in a .gml file readable to networkx"
      ]
    },
    {
      "cell_type": "code",
      "execution_count": 176,
      "metadata": {
        "id": "zjjLpce5eEQ1"
      },
      "outputs": [],
      "source": [
        "# Generating random time labelled undirected graph.\n",
        "\n",
        "import random\n",
        "import networkx as nx\n",
        "\n",
        "G1 = nx.complete_graph(6)\n",
        "\n",
        "for (u,v) in G1.edges():\n",
        "    G1.edges[u,v]['time'] = random.randint(0,100)"
      ]
    },
    {
      "cell_type": "code",
      "execution_count": 177,
      "metadata": {
        "colab": {
          "base_uri": "https://localhost:8080/"
        },
        "id": "6gjFRUB5fR4-",
        "outputId": "2e145448-9b08-4836-a408-9261815b3e98"
      },
      "outputs": [
        {
          "data": {
            "text/plain": [
              "array([[ 0,  1, 94, 89, 16,  6],\n",
              "       [ 1,  0, 87, 71, 90, 64],\n",
              "       [94, 87,  0, 30, 42, 67],\n",
              "       [89, 71, 30,  0, 25, 72],\n",
              "       [16, 90, 42, 25,  0, 15],\n",
              "       [ 6, 64, 67, 72, 15,  0]])"
            ]
          },
          "execution_count": 177,
          "metadata": {},
          "output_type": "execute_result"
        }
      ],
      "source": [
        "A = nx.adjacency_matrix(G1, weight = 'time')\n",
        "A.todense()"
      ]
    },
    {
      "cell_type": "code",
      "execution_count": 67,
      "metadata": {
        "id": "URRAaf0R1LUP"
      },
      "outputs": [],
      "source": [
        "import networkx as nx\n",
        "import numpy as np"
      ]
    },
    {
      "cell_type": "code",
      "execution_count": 198,
      "metadata": {
        "colab": {
          "base_uri": "https://localhost:8080/"
        },
        "id": "-gZ_QPba1RoX",
        "outputId": "9a5a5406-0b4e-462f-ac66-9b47e71803aa"
      },
      "outputs": [
        {
          "name": "stdout",
          "output_type": "stream",
          "text": [
            "[(0, 1), (0, 2), (0, 3), (0, 4), (0, 5), (1, 0), (1, 2), (1, 3), (1, 4), (1, 5), (2, 0), (2, 1), (2, 3), (2, 4), (2, 5), (3, 0), (3, 1), (3, 2), (3, 4), (3, 5), (4, 0), (4, 1), (4, 2), (4, 3), (4, 5), (5, 0), (5, 1), (5, 2), (5, 3), (5, 4)]\n"
          ]
        }
      ],
      "source": [
        "A2 = np.array([[ 0,  1, 91, 89, 14,  8],\n",
        "               [ 1,  0, 87, 71, 90, 64],\n",
        "               [91, 87,  0, 30, 42, 67],\n",
        "               [89, 71, 30,  0, 25, 72],\n",
        "               [14, 90, 42, 25,  0, 15],\n",
        "               [ 8, 64, 67, 72, 15,  0]])\n",
        "\n",
        "rows, cols = np.where(A2 != 0)\n",
        "edges = list(zip(rows.tolist(), cols.tolist()))\n",
        "\n",
        "print(edges)\n",
        "\n",
        "G2 = nx.Graph()\n",
        "\n",
        "G2.add_edges_from(edges)\n",
        "\n",
        "for (u,v) in edges:\n",
        "    G2.edges[u,v]['time'] = A2[u,v]"
      ]
    },
    {
      "cell_type": "code",
      "execution_count": 65,
      "metadata": {
        "id": "GSvny2Bjfkoj"
      },
      "outputs": [],
      "source": [
        "# Exporting G to .gml file\n",
        "\n",
        "nx.write_gml(G3,'Graph3.gml')"
      ]
    },
    {
      "cell_type": "code",
      "execution_count": 178,
      "metadata": {
        "colab": {
          "base_uri": "https://localhost:8080/",
          "height": 406
        },
        "id": "KUVFzh2vgKb8",
        "outputId": "79388285-f280-4a08-af66-b16a03a65db6"
      },
      "outputs": [
        {
          "data": {
            "image/png": "[encoded data removed]",
            "text/plain": [
              "<Figure size 640x480 with 1 Axes>"
            ]
          },
          "metadata": {},
          "output_type": "display_data"
        }
      ],
      "source": [
        "def draw_with_labels(G,label):\n",
        "    pos=nx.spring_layout(G)\n",
        "    nx.draw_networkx(G,pos)\n",
        "    labels = nx.get_edge_attributes(G,label)\n",
        "    nx.draw_networkx_edge_labels(G,pos,edge_labels = labels)\n",
        "\n",
        "draw_with_labels(G1,'time')"
      ]
    },
    {
      "cell_type": "code",
      "execution_count": 85,
      "metadata": {
        "id": "Wl0M7gBT4inY"
      },
      "outputs": [],
      "source": [
        "# Slightly changing the graph\n",
        "\n",
        "G2 = G1\n",
        "\n",
        "G2.remove_edge(6,4)\n",
        "G2.add_edge(3,4,time=50)"
      ]
    },
    {
      "cell_type": "code",
      "execution_count": 52,
      "metadata": {
        "id": "qgl-RN6R8iiZ"
      },
      "outputs": [],
      "source": [
        "nx.write_gml(G2,'Graph2.gml')"
      ]
    },
    {
      "cell_type": "code",
      "execution_count": 199,
      "metadata": {
        "colab": {
          "base_uri": "https://localhost:8080/",
          "height": 406
        },
        "id": "NBnsCJ5N5BqU",
        "outputId": "2b854de6-d568-4291-cbf1-75ed766d37db"
      },
      "outputs": [
        {
          "data": {
            "image/png": "[encoded data removed]",
            "text/plain": [
              "<Figure size 640x480 with 1 Axes>"
            ]
          },
          "metadata": {},
          "output_type": "display_data"
        }
      ],
      "source": [
        "draw_with_labels(G2,'time')"
      ]
    },
    {
      "cell_type": "code",
      "execution_count": null,
      "metadata": {
        "colab": {
          "base_uri": "https://localhost:8080/"
        },
        "id": "1j-2u802me3E",
        "outputId": "3e720f9b-f154-4d89-d10d-ab88d108dc53"
      },
      "outputs": [
        {
          "data": {
            "text/plain": [
              "[0, 1, 2, 3, 4]"
            ]
          },
          "execution_count": 26,
          "metadata": {},
          "output_type": "execute_result"
        }
      ],
      "source": [
        "list(nx.edges(G))\n",
        "# G.edges[4,0]['time']\n",
        "list(G.nodes())"
      ]
    },
    {
      "cell_type": "code",
      "execution_count": 70,
      "metadata": {
        "id": "NzXPYVQghxO7"
      },
      "outputs": [],
      "source": [
        "# Utility functions for edge weight calculation\n",
        "import numpy as np\n",
        "def assign_weights(G):\n",
        "    # G is a networkx undirected time labelled graph\n",
        "    wtG = nx.Graph()\n",
        "    for edge in G.edges():\n",
        "        (u,v) = edge\n",
        "        wt = np.inf\n",
        "        for nbr in nx.neighbors(G,u):\n",
        "            if nbr == v: continue\n",
        "            if abs(G.edges[u,nbr]['time'] - G.edges[u,v]['time']) < wt:\n",
        "                wt = abs(G.edges[u,nbr]['time'] - G.edges[u,v]['time'])\n",
        "        for nbr in nx.neighbors(G,v):\n",
        "            if nbr == u: continue\n",
        "            if abs(G.edges[v,nbr]['time'] - G.edges[u,v]['time']) < wt:\n",
        "                wt = abs(G.edges[v,nbr]['time'] - G.edges[u,v]['time'])\n",
        "        wtG.add_edge(u,v,weight=wt)\n",
        "    return wtG"
      ]
    },
    {
      "cell_type": "code",
      "execution_count": 200,
      "metadata": {
        "id": "q8aDxeFWly6M"
      },
      "outputs": [],
      "source": [
        "Gw1 = assign_weights(G1)"
      ]
    },
    {
      "cell_type": "code",
      "execution_count": 201,
      "metadata": {
        "id": "T4nSzALP5LuI"
      },
      "outputs": [],
      "source": [
        "Gw2 = assign_weights(G2)"
      ]
    },
    {
      "cell_type": "code",
      "execution_count": 106,
      "metadata": {
        "id": "71L7BxSbckEh"
      },
      "outputs": [],
      "source": [
        "Gw2.add_edge(0,1,weight=40)"
      ]
    },
    {
      "cell_type": "code",
      "execution_count": 140,
      "metadata": {
        "id": "eeM9-Qkxh6jC"
      },
      "outputs": [],
      "source": [
        "Gw2.remove_edge(0,1)\n",
        "Gw2.add_edge(0,1,weight=4000)"
      ]
    },
    {
      "cell_type": "code",
      "execution_count": 202,
      "metadata": {
        "colab": {
          "base_uri": "https://localhost:8080/",
          "height": 406
        },
        "id": "i-jDfFVVp99i",
        "outputId": "3c476c49-12a4-4907-beb0-040e22458891"
      },
      "outputs": [
        {
          "data": {
            "image/png": "[encoded data removed]",
            "text/plain": [
              "<Figure size 640x480 with 1 Axes>"
            ]
          },
          "metadata": {},
          "output_type": "display_data"
        }
      ],
      "source": [
        "draw_with_labels(Gw1,'weight')"
      ]
    },
    {
      "cell_type": "code",
      "execution_count": 203,
      "metadata": {
        "colab": {
          "base_uri": "https://localhost:8080/",
          "height": 406
        },
        "id": "JHFXjPYIl7DA",
        "outputId": "6112b88a-e898-4fe0-ff12-f8b87e519832"
      },
      "outputs": [
        {
          "data": {
            "image/png": "[encoded data removed]",
            "text/plain": [
              "<Figure size 640x480 with 1 Axes>"
            ]
          },
          "metadata": {},
          "output_type": "display_data"
        }
      ],
      "source": [
        "draw_with_labels(Gw2,'weight')"
      ]
    },
    {
      "cell_type": "code",
      "execution_count": 143,
      "metadata": {
        "colab": {
          "base_uri": "https://localhost:8080/"
        },
        "id": "FbiJkHvteCdE",
        "outputId": "f50f2dfb-592f-4e97-b9aa-056b1858f5e8"
      },
      "outputs": [
        {
          "data": {
            "text/plain": [
              "array([[   0,   10,   10, 4000,    0,    0,    0],\n",
              "       [  10,    0,    0,    9,   15,   16,    0],\n",
              "       [  10,    0,    0,   36,    0,    0,    0],\n",
              "       [4000,    9,   36,    0,    0,    9,   38],\n",
              "       [   0,   15,    0,    0,    0,   16,    0],\n",
              "       [   0,   16,    0,    9,   16,    0,   11],\n",
              "       [   0,    0,    0,   38,    0,   11,    0]])"
            ]
          },
          "execution_count": 143,
          "metadata": {},
          "output_type": "execute_result"
        }
      ],
      "source": [
        "A = nx.adjacency_matrix(Gw2, weight = 'weight')\n",
        "A.todense()"
      ]
    },
    {
      "cell_type": "code",
      "execution_count": 144,
      "metadata": {
        "colab": {
          "base_uri": "https://localhost:8080/"
        },
        "id": "GLbjlRD5eXIE",
        "outputId": "153e4b03-25f9-4038-9862-4e28f4186287"
      },
      "outputs": [
        {
          "name": "stdout",
          "output_type": "stream",
          "text": [
            "[(0, 1), (0, 2), (0, 3), (1, 0), (1, 3), (1, 4), (1, 5), (2, 0), (2, 3), (3, 0), (3, 1), (3, 2), (3, 5), (3, 6), (4, 1), (4, 5), (5, 1), (5, 3), (5, 4), (5, 6), (6, 3), (6, 5)]\n"
          ]
        }
      ],
      "source": [
        "A1 = np.array([[   0,   10,   10, 4000,    0,    0,    0],\n",
        "       [  10,    0,    0,    9,   15,   16,    0],\n",
        "       [  10,    0,    0,   37,    0,    0,    0],\n",
        "       [4000,    9,   37,    0,    0,    9,   38],\n",
        "       [   0,   15,    0,    0,    0,   16,    0],\n",
        "       [   0,   16,    0,    9,   16,    0,   11],\n",
        "       [   0,    0,    0,   38,    0,   11,    0]])\n",
        "\n",
        "rows, cols = np.where(A1 != 0)\n",
        "edges = list(zip(rows.tolist(), cols.tolist()))\n",
        "\n",
        "print(edges)\n",
        "\n",
        "Gw2_e = nx.Graph()\n",
        "\n",
        "Gw2_e.add_edges_from(edges)\n",
        "\n",
        "for (u,v) in edges:\n",
        "    Gw2_e.edges[u,v]['weight'] = A1[u,v]"
      ]
    },
    {
      "cell_type": "code",
      "execution_count": 145,
      "metadata": {
        "colab": {
          "base_uri": "https://localhost:8080/",
          "height": 406
        },
        "id": "e_j8cbCS5Pu-",
        "outputId": "04952f72-631a-4b51-d37e-c139cb61e70c"
      },
      "outputs": [
        {
          "data": {
            "image/png": "[encoded data removed]",
            "text/plain": [
              "<Figure size 640x480 with 1 Axes>"
            ]
          },
          "metadata": {},
          "output_type": "display_data"
        }
      ],
      "source": [
        "draw_with_labels(Gw2_e,'weight')"
      ]
    },
    {
      "cell_type": "code",
      "execution_count": 11,
      "metadata": {
        "id": "sBaay0VayHzx"
      },
      "outputs": [],
      "source": [
        "nx.write_gml(Gw,'Graph1_weights.gml')"
      ]
    },
    {
      "cell_type": "code",
      "execution_count": 47,
      "metadata": {
        "id": "PGMCkP388aB3"
      },
      "outputs": [],
      "source": [
        "nx.write_gml(Gw2,'Graph2_weights.gml')"
      ]
    },
    {
      "cell_type": "code",
      "execution_count": 161,
      "metadata": {
        "id": "tkQC_sI3rLz0"
      },
      "outputs": [],
      "source": [
        "def adj_fillinf(Gw):\n",
        "    Aw = nx.adjacency_matrix(Gw,weight = 'weight')\n",
        "    Ad = Aw.todense().astype(np.float64)\n",
        "    Ad[Ad == 0] = np.inf\n",
        "    # Ad[Ad == 4000] = np.inf\n",
        "    np.fill_diagonal(Ad,0)\n",
        "    return Ad\n",
        "\n",
        "# Ad1 = adj_fillinf(Gw1)"
      ]
    },
    {
      "cell_type": "code",
      "execution_count": 205,
      "metadata": {
        "colab": {
          "base_uri": "https://localhost:8080/"
        },
        "id": "ohkUf_vp5lkm",
        "outputId": "a940fb63-c1fd-40a6-92c4-11a1e6b99567"
      },
      "outputs": [
        {
          "data": {
            "text/plain": [
              "array([[ 0.,  5.,  5.,  5.,  1.,  5.],\n",
              "       [ 5.,  0.,  3.,  1.,  3.,  3.],\n",
              "       [ 5.,  3.,  0.,  5., 12.,  3.],\n",
              "       [ 5.,  1.,  5.,  0.,  5.,  1.],\n",
              "       [ 1.,  3., 12.,  5.,  0.,  1.],\n",
              "       [ 5.,  3.,  3.,  1.,  1.,  0.]])"
            ]
          },
          "execution_count": 205,
          "metadata": {},
          "output_type": "execute_result"
        }
      ],
      "source": [
        "Ad1 = adj_fillinf(Gw1)\n",
        "Ad1"
      ]
    },
    {
      "cell_type": "code",
      "execution_count": 206,
      "metadata": {
        "colab": {
          "base_uri": "https://localhost:8080/"
        },
        "id": "cIh1t-mpdLsW",
        "outputId": "264b7736-9d93-4042-b10a-b05fb11bd95b"
      },
      "outputs": [
        {
          "data": {
            "text/plain": [
              "array([[ 0.,  7.,  2.,  2.,  1.,  6.],\n",
              "       [ 7.,  0.,  3.,  1.,  3.,  3.],\n",
              "       [ 2.,  3.,  0.,  5., 12.,  3.],\n",
              "       [ 2.,  1.,  5.,  0.,  5.,  1.],\n",
              "       [ 1.,  3., 12.,  5.,  0.,  1.],\n",
              "       [ 6.,  3.,  3.,  1.,  1.,  0.]])"
            ]
          },
          "execution_count": 206,
          "metadata": {},
          "output_type": "execute_result"
        }
      ],
      "source": [
        "Ad2 = adj_fillinf(Gw2)\n",
        "Ad2"
      ]
    },
    {
      "cell_type": "code",
      "execution_count": 207,
      "metadata": {
        "colab": {
          "base_uri": "https://localhost:8080/"
        },
        "id": "io-1YdlBy3Xb",
        "outputId": "3c590617-c044-407d-df27-c1d340924c5c"
      },
      "outputs": [
        {
          "name": "stdout",
          "output_type": "stream",
          "text": [
            "diagrams.shape: (2, 7, 3) (7 topological features)\n"
          ]
        }
      ],
      "source": [
        "X = [Ad1,Ad2]\n",
        "\n",
        "# Instantiate topological transformer\n",
        "VR = VietorisRipsPersistence(metric=\"precomputed\")\n",
        "\n",
        "# Compute persistence diagrams corresponding to each entry (only one here) in X\n",
        "diagrams = VR.fit_transform(X)\n",
        "\n",
        "print(f\"diagrams.shape: {diagrams.shape} ({diagrams.shape[1]} topological features)\")"
      ]
    },
    {
      "cell_type": "code",
      "execution_count": 208,
      "metadata": {
        "colab": {
          "base_uri": "https://localhost:8080/"
        },
        "id": "nInfnGd22A_L",
        "outputId": "c9ea7a7a-01d3-4cb6-e551-94f323b2a1a4"
      },
      "outputs": [
        {
          "data": {
            "text/plain": [
              "array([[[0., 1., 0.],\n",
              "        [0., 1., 0.],\n",
              "        [0., 1., 0.],\n",
              "        [0., 1., 0.],\n",
              "        [0., 3., 0.],\n",
              "        [2., 2., 1.],\n",
              "        [2., 2., 1.]],\n",
              "\n",
              "       [[0., 1., 0.],\n",
              "        [0., 1., 0.],\n",
              "        [0., 1., 0.],\n",
              "        [0., 1., 0.],\n",
              "        [0., 2., 0.],\n",
              "        [3., 5., 1.],\n",
              "        [2., 5., 1.]]])"
            ]
          },
          "execution_count": 208,
          "metadata": {},
          "output_type": "execute_result"
        }
      ],
      "source": [
        "diagrams"
      ]
    },
    {
      "cell_type": "code",
      "execution_count": 1,
      "metadata": {
        "colab": {
          "base_uri": "https://localhost:8080/",
          "height": 517
        },
        "id": "aQKyLVqOy-ft",
        "outputId": "85826542-cd1b-4ae1-bd95-738ea2165187"
      },
      "outputs": [
        {
          "ename": "NameError",
          "evalue": "name 'diagrams' is not defined",
          "output_type": "error",
          "traceback": [
            "\u001b[0;31m---------------------------------------------------------------------------\u001b[0m",
            "\u001b[0;31mNameError\u001b[0m                                 Traceback (most recent call last)",
            "Cell \u001b[0;32mIn[1], line 3\u001b[0m\n\u001b[1;32m      1\u001b[0m \u001b[38;5;28;01mfrom\u001b[39;00m \u001b[38;5;21;01mgtda\u001b[39;00m\u001b[38;5;21;01m.\u001b[39;00m\u001b[38;5;21;01mplotting\u001b[39;00m \u001b[38;5;28;01mimport\u001b[39;00m plot_diagram\n\u001b[0;32m----> 3\u001b[0m plot_diagram(\u001b[43mdiagrams\u001b[49m[\u001b[38;5;241m0\u001b[39m])\n",
            "\u001b[0;31mNameError\u001b[0m: name 'diagrams' is not defined"
          ]
        }
      ],
      "source": [
        "from gtda.plotting import plot_diagram\n",
        "\n",
        "plot_diagram(diagrams[0])"
      ]
    },
    {
      "cell_type": "markdown",
      "metadata": {
        "id": "lbdxzGdc8q_4"
      },
      "source": [
        "generating 2 more completely different graphs"
      ]
    },
    {
      "cell_type": "code",
      "execution_count": 55,
      "metadata": {
        "colab": {
          "base_uri": "https://localhost:8080/"
        },
        "id": "zzjqhFSV8vhu",
        "outputId": "c75e5763-8766-4365-f6a1-cdfe8225b990"
      },
      "outputs": [
        {
          "data": {
            "text/plain": [
              "array([[  0,   0,   0,   0,   0,   0,   0,  41,  31],\n",
              "       [  0,   0,   0,   0,   0,  57,   0,   0,   0],\n",
              "       [  0,   0,   0,   0,   0,   0,  70,  75,   0],\n",
              "       [  0,   0,   0,   0,  61,  82,   0,  27,   0],\n",
              "       [  0,   0,   0,  61,   0,   0,  96,  64,   0],\n",
              "       [  0,  57,   0,  82,   0,   0,   0,   0,   0],\n",
              "       [  0,   0,  70,   0,  96,   0,   0, 100,  50],\n",
              "       [ 41,   0,  75,  27,  64,   0, 100,   0,   0],\n",
              "       [ 31,   0,   0,   0,   0,   0,  50,   0,   0]])"
            ]
          },
          "execution_count": 55,
          "metadata": {},
          "output_type": "execute_result"
        }
      ],
      "source": [
        "import random\n",
        "\n",
        "G3 = nx.gnm_random_graph(9,12)\n",
        "\n",
        "for (u,v) in G3.edges():\n",
        "    G3.edges[u,v]['time'] = random.randint(0,100)\n",
        "\n",
        "A = nx.adjacency_matrix(G3, weight = 'time')\n",
        "A.todense()"
      ]
    },
    {
      "cell_type": "code",
      "execution_count": 58,
      "metadata": {
        "colab": {
          "base_uri": "https://localhost:8080/",
          "height": 406
        },
        "id": "RspPjlnw9TYm",
        "outputId": "61781208-0486-4ad9-deaf-42722b5f1d81"
      },
      "outputs": [
        {
          "data": {
            "image/png": "[encoded data removed]",
            "text/plain": [
              "<Figure size 640x480 with 1 Axes>"
            ]
          },
          "metadata": {},
          "output_type": "display_data"
        }
      ],
      "source": [
        "draw_with_labels(G3,'time')"
      ]
    },
    {
      "cell_type": "code",
      "execution_count": 59,
      "metadata": {
        "id": "5hIsXE9q9mZ_"
      },
      "outputs": [],
      "source": [
        "nx.write_gml(G3,'Graph3.gml')"
      ]
    },
    {
      "cell_type": "code",
      "execution_count": 60,
      "metadata": {
        "id": "gsNa4CfE9twX"
      },
      "outputs": [],
      "source": [
        "Gw3 = assign_weights(G3)"
      ]
    },
    {
      "cell_type": "code",
      "execution_count": 61,
      "metadata": {
        "colab": {
          "base_uri": "https://localhost:8080/",
          "height": 406
        },
        "id": "gz2dPRbs9595",
        "outputId": "7f7715bc-62e1-46d1-e552-3b77e20f7074"
      },
      "outputs": [
        {
          "data": {
            "image/png": "[encoded data removed]",
            "text/plain": [
              "<Figure size 640x480 with 1 Axes>"
            ]
          },
          "metadata": {},
          "output_type": "display_data"
        }
      ],
      "source": [
        "draw_with_labels(Gw3,'weight')"
      ]
    },
    {
      "cell_type": "code",
      "execution_count": 62,
      "metadata": {
        "id": "PbWi60an-AVr"
      },
      "outputs": [],
      "source": [
        "nx.write_gml(Gw3,'Graph3_weights.gml')"
      ]
    },
    {
      "cell_type": "code",
      "execution_count": 66,
      "metadata": {
        "colab": {
          "base_uri": "https://localhost:8080/"
        },
        "id": "uCH9DMtc-Mkk",
        "outputId": "ce317a93-14ff-43a5-ff63-640c281aee08"
      },
      "outputs": [
        {
          "data": {
            "text/plain": [
              "array([[ 0., 10., 10., inf, inf, inf, inf, inf, inf],\n",
              "       [10.,  0., inf, inf, inf,  5.,  4., 14.,  3.],\n",
              "       [10., inf,  0., inf, inf, inf, 19., inf, inf],\n",
              "       [inf, inf, inf,  0., 25., inf, inf, inf, inf],\n",
              "       [inf, inf, inf, 25.,  0., inf, inf, 21., inf],\n",
              "       [inf,  5., inf, inf, inf,  0.,  5., inf, inf],\n",
              "       [inf,  4., 19., inf, inf,  5.,  0., inf,  4.],\n",
              "       [inf, 14., inf, inf, 21., inf, inf,  0.,  3.],\n",
              "       [inf,  3., inf, inf, inf, inf,  4.,  3.,  0.]])"
            ]
          },
          "execution_count": 66,
          "metadata": {},
          "output_type": "execute_result"
        }
      ],
      "source": [
        "Ad3 = adj_fillinf(Gw3)\n",
        "Ad3"
      ]
    },
    {
      "cell_type": "code",
      "execution_count": 66,
      "metadata": {
        "colab": {
          "base_uri": "https://localhost:8080/",
          "height": 406
        },
        "id": "gbeUNP-0-lfr",
        "outputId": "2c8a5574-2178-4de6-eedc-5461b9afa88e"
      },
      "outputs": [
        {
          "data": {
            "image/png": "[encoded data removed]",
            "text/plain": [
              "<Figure size 640x480 with 1 Axes>"
            ]
          },
          "metadata": {},
          "output_type": "display_data"
        }
      ],
      "source": [
        "# `making slight changes to G3\n",
        "G4 = G3\n",
        "G4.remove_edge(6,7)\n",
        "G4.remove_edge(4,7)\n",
        "G4.add_edge(5,2,time=69)\n",
        "\n",
        "# A = nx.adjacency_matrix(G4, weight = 'time')\n",
        "# A.todense()\n",
        "\n",
        "draw_with_labels(G4,'time')\n",
        "nx.write_gml(G4,'Graph4.gml')\n",
        "\n",
        "# Gw4 = assign_weights(G4)\n",
        "# draw_with_labels(Gw4,'weight')\n",
        "# nx.write_gml(Gw4,'Graph4_weights.gml')\n",
        "\n",
        "# Ad4 = adj_fillinf(Gw4)\n",
        "# Ad4"
      ]
    },
    {
      "cell_type": "code",
      "execution_count": 109,
      "metadata": {
        "colab": {
          "base_uri": "https://localhost:8080/"
        },
        "id": "zfi39Rin-Udt",
        "outputId": "d45c1ce3-3d9f-4fb5-c303-1131c25392f6"
      },
      "outputs": [
        {
          "name": "stdout",
          "output_type": "stream",
          "text": [
            "diagrams.shape: (4, 11, 3) (11 topological features)\n",
            "[[[ 0.  9.  0.]\n",
            "  [ 0.  9.  0.]\n",
            "  [ 0. 10.  0.]\n",
            "  [ 0. 10.  0.]\n",
            "  [ 0. 10.  0.]\n",
            "  [ 0. 15.  0.]\n",
            "  [ 0.  0.  0.]\n",
            "  [ 0.  0.  0.]\n",
            "  [23. inf  1.]\n",
            "  [10. inf  1.]\n",
            "  [10. 10.  1.]]\n",
            "\n",
            " [[ 0.  9.  0.]\n",
            "  [ 0.  9.  0.]\n",
            "  [ 0. 10.  0.]\n",
            "  [ 0. 10.  0.]\n",
            "  [ 0. 11.  0.]\n",
            "  [ 0. 15.  0.]\n",
            "  [ 0.  0.  0.]\n",
            "  [ 0.  0.  0.]\n",
            "  [36. inf  1.]\n",
            "  [10. 10.  1.]\n",
            "  [10. 10.  1.]]\n",
            "\n",
            " [[ 0.  3.  0.]\n",
            "  [ 0.  3.  0.]\n",
            "  [ 0.  4.  0.]\n",
            "  [ 0.  5.  0.]\n",
            "  [ 0. 10.  0.]\n",
            "  [ 0. 10.  0.]\n",
            "  [ 0. 21.  0.]\n",
            "  [ 0. 25.  0.]\n",
            "  [19. inf  1.]\n",
            "  [10. 10.  1.]\n",
            "  [10. 10.  1.]]\n",
            "\n",
            " [[ 0.  1.  0.]\n",
            "  [ 0.  1.  0.]\n",
            "  [ 0.  5.  0.]\n",
            "  [ 0. 10.  0.]\n",
            "  [ 0. 10.  0.]\n",
            "  [ 0. 12.  0.]\n",
            "  [ 0. 13.  0.]\n",
            "  [ 0. 21.  0.]\n",
            "  [26. inf  1.]\n",
            "  [19. inf  1.]\n",
            "  [14. inf  1.]]]\n"
          ]
        }
      ],
      "source": [
        "X = [Ad,Ad2,Ad3,Ad4]\n",
        "\n",
        "# Instantiate topological transformer\n",
        "VR = VietorisRipsPersistence(metric=\"precomputed\")\n",
        "\n",
        "# Compute persistence diagrams corresponding to each entry (only one here) in X\n",
        "diagrams = VR.fit_transform(X)\n",
        "\n",
        "print(f\"diagrams.shape: {diagrams.shape} ({diagrams.shape[1]} topological features)\")\n",
        "\n",
        "print(diagrams)\n",
        "\n",
        "# plot_diagram(diagrams[0])"
      ]
    },
    {
      "cell_type": "markdown",
      "metadata": {
        "id": "DDhrF_3fAO7g"
      },
      "source": [
        "### Comparing persistence diagrams"
      ]
    },
    {
      "cell_type": "code",
      "execution_count": 89,
      "metadata": {
        "id": "Xy1Tt84mIQnH"
      },
      "outputs": [],
      "source": [
        "diag_edited = diagrams"
      ]
    },
    {
      "cell_type": "code",
      "execution_count": 90,
      "metadata": {
        "colab": {
          "base_uri": "https://localhost:8080/"
        },
        "id": "tq8E8PIXIVqf",
        "outputId": "4f04dca3-aff7-4af8-c371-bd2888093aa2"
      },
      "outputs": [
        {
          "data": {
            "text/plain": [
              "array([[[ 0.,  9.,  0.],\n",
              "        [ 0.,  9.,  0.],\n",
              "        [ 0., 10.,  0.],\n",
              "        [ 0., 10.,  0.],\n",
              "        [ 0., 10.,  0.],\n",
              "        [ 0., 15.,  0.],\n",
              "        [ 0.,  0.,  0.],\n",
              "        [ 0.,  0.,  0.],\n",
              "        [23., inf,  1.],\n",
              "        [10., inf,  1.],\n",
              "        [10., 10.,  1.]],\n",
              "\n",
              "       [[ 0.,  9.,  0.],\n",
              "        [ 0.,  9.,  0.],\n",
              "        [ 0., 10.,  0.],\n",
              "        [ 0., 10.,  0.],\n",
              "        [ 0., 11.,  0.],\n",
              "        [ 0., 15.,  0.],\n",
              "        [ 0.,  0.,  0.],\n",
              "        [ 0.,  0.,  0.],\n",
              "        [36., inf,  1.],\n",
              "        [10., 10.,  1.],\n",
              "        [10., 10.,  1.]],\n",
              "\n",
              "       [[ 0.,  3.,  0.],\n",
              "        [ 0.,  3.,  0.],\n",
              "        [ 0.,  4.,  0.],\n",
              "        [ 0.,  5.,  0.],\n",
              "        [ 0., 10.,  0.],\n",
              "        [ 0., 10.,  0.],\n",
              "        [ 0., 21.,  0.],\n",
              "        [ 0., 25.,  0.],\n",
              "        [19., inf,  1.],\n",
              "        [10., 10.,  1.],\n",
              "        [10., 10.,  1.]],\n",
              "\n",
              "       [[ 0.,  1.,  0.],\n",
              "        [ 0.,  1.,  0.],\n",
              "        [ 0.,  5.,  0.],\n",
              "        [ 0., 10.,  0.],\n",
              "        [ 0., 10.,  0.],\n",
              "        [ 0., 12.,  0.],\n",
              "        [ 0., 13.,  0.],\n",
              "        [ 0., 21.,  0.],\n",
              "        [26., inf,  1.],\n",
              "        [19., inf,  1.],\n",
              "        [14., inf,  1.]]])"
            ]
          },
          "execution_count": 90,
          "metadata": {},
          "output_type": "execute_result"
        }
      ],
      "source": [
        "diag_edited"
      ]
    },
    {
      "cell_type": "code",
      "execution_count": 91,
      "metadata": {
        "id": "Q3Q7z6XTIYdH"
      },
      "outputs": [],
      "source": [
        "diag_edited[0][diag_edited[0] == np.inf] = 10000\n",
        "diag_edited[1][diag_edited[1] == np.inf] = 10000\n",
        "diag_edited[2][diag_edited[2] == np.inf] = 10000\n",
        "diag_edited[3][diag_edited[3] == np.inf] = 10000"
      ]
    },
    {
      "cell_type": "code",
      "execution_count": 2,
      "metadata": {
        "id": "oWArF2uyANOA"
      },
      "outputs": [
        {
          "ename": "NameError",
          "evalue": "name 'diagrams' is not defined",
          "output_type": "error",
          "traceback": [
            "\u001b[0;31m---------------------------------------------------------------------------\u001b[0m",
            "\u001b[0;31mNameError\u001b[0m                                 Traceback (most recent call last)",
            "Cell \u001b[0;32mIn[2], line 5\u001b[0m\n\u001b[1;32m      1\u001b[0m \u001b[38;5;28;01mfrom\u001b[39;00m \u001b[38;5;21;01mgtda\u001b[39;00m\u001b[38;5;21;01m.\u001b[39;00m\u001b[38;5;21;01mdiagrams\u001b[39;00m \u001b[38;5;28;01mimport\u001b[39;00m PairwiseDistance\n\u001b[1;32m      3\u001b[0m PD \u001b[38;5;241m=\u001b[39m PairwiseDistance(metric\u001b[38;5;241m=\u001b[39m\u001b[38;5;124m'\u001b[39m\u001b[38;5;124mbottleneck\u001b[39m\u001b[38;5;124m'\u001b[39m)\n\u001b[0;32m----> 5\u001b[0m dist \u001b[38;5;241m=\u001b[39m PD\u001b[38;5;241m.\u001b[39mfit_transform(\u001b[43mdiagrams\u001b[49m)\n",
            "\u001b[0;31mNameError\u001b[0m: name 'diagrams' is not defined"
          ]
        }
      ],
      "source": [
        "from gtda.diagrams import PairwiseDistance\n",
        "\n",
        "PD = PairwiseDistance(metric='bottleneck')\n",
        "\n",
        "dist = PD.fit_transform(diagrams)"
      ]
    },
    {
      "cell_type": "code",
      "execution_count": 212,
      "metadata": {
        "colab": {
          "base_uri": "https://localhost:8080/"
        },
        "id": "qHphbUSmC8Ki",
        "outputId": "455e4c6b-0fe5-4493-edc7-09fb357485a1"
      },
      "outputs": [
        {
          "data": {
            "text/plain": [
              "array([[0.        , 1.80277564],\n",
              "       [1.80385977, 0.        ]])"
            ]
          },
          "execution_count": 212,
          "metadata": {},
          "output_type": "execute_result"
        }
      ],
      "source": [
        "dist"
      ]
    },
    {
      "cell_type": "markdown",
      "metadata": {
        "id": "K3PHmPflLS6g"
      },
      "source": [
        "### Now trying with Gudhi"
      ]
    },
    {
      "cell_type": "code",
      "execution_count": 214,
      "metadata": {
        "colab": {
          "base_uri": "https://localhost:8080/",
          "height": 480
        },
        "id": "YY1JAI6a0g7F",
        "outputId": "5ee8a41f-cdea-418a-c3d8-26ce22173f60"
      },
      "outputs": [
        {
          "data": {
            "image/png": "[encoded data removed]",
            "text/plain": [
              "<Figure size 640x480 with 1 Axes>"
            ]
          },
          "metadata": {},
          "output_type": "display_data"
        }
      ],
      "source": [
        "import gudhi as gd\n",
        "skeleton_protein1 = gd.RipsComplex(\n",
        "    distance_matrix = Ad1,\n",
        "    max_edge_length = 5000\n",
        ")\n",
        "\n",
        "Rips_simplex_tree_protein1 = skeleton_protein1.create_simplex_tree(max_dimension = 3)\n",
        "\n",
        "BarCodes_Rips1 = Rips_simplex_tree_protein1.persistence()\n",
        "\n",
        "gd.plot_persistence_diagram(BarCodes_Rips1);"
      ]
    },
    {
      "cell_type": "code",
      "execution_count": 215,
      "metadata": {
        "colab": {
          "base_uri": "https://localhost:8080/",
          "height": 480
        },
        "id": "amRhpFY8M_TU",
        "outputId": "7c8d90cf-0a83-42c7-bcb5-bf9c8ab0429e"
      },
      "outputs": [
        {
          "data": {
            "image/png": "[encoded data removed]",
            "text/plain": [
              "<Figure size 640x480 with 1 Axes>"
            ]
          },
          "metadata": {},
          "output_type": "display_data"
        }
      ],
      "source": [
        "skeleton_protein2 = gd.RipsComplex(\n",
        "    distance_matrix = Ad2,\n",
        "    max_edge_length = 5000\n",
        ")\n",
        "\n",
        "Rips_simplex_tree_protein2 = skeleton_protein2.create_simplex_tree(max_dimension = 3)\n",
        "\n",
        "BarCodes_Rips2 = Rips_simplex_tree_protein2.persistence()\n",
        "\n",
        "gd.plot_persistence_diagram(BarCodes_Rips2);"
      ]
    },
    {
      "cell_type": "code",
      "execution_count": 217,
      "metadata": {
        "colab": {
          "base_uri": "https://localhost:8080/"
        },
        "id": "xS3CkaUENvOc",
        "outputId": "4b05010a-6b01-4d97-ad1a-4f914dd93e8e"
      },
      "outputs": [
        {
          "data": {
            "text/plain": [
              "1.0"
            ]
          },
          "execution_count": 217,
          "metadata": {},
          "output_type": "execute_result"
        }
      ],
      "source": [
        "I1 = Rips_simplex_tree_protein1.persistence_intervals_in_dimension(0)\n",
        "I2 = Rips_simplex_tree_protein2.persistence_intervals_in_dimension(0)\n",
        "\n",
        "gd.bottleneck_distance(I1, I2)"
      ]
    },
    {
      "cell_type": "code",
      "execution_count": 110,
      "metadata": {
        "id": "Yr2bFgxtPRM_"
      },
      "outputs": [],
      "source": [
        "diag_e0 = diagrams[0][:,:-1]\n",
        "diag_e1 = diagrams[1][:,:-1]\n",
        "diag_e2 = diagrams[2][:,:-1]\n",
        "diag_e3 = diagrams[3][:,:-1]"
      ]
    },
    {
      "cell_type": "code",
      "execution_count": 111,
      "metadata": {
        "colab": {
          "base_uri": "https://localhost:8080/"
        },
        "id": "dPvgmZo8P8hl",
        "outputId": "c9a2a5c5-89a4-4993-e008-7b5372c1c6aa"
      },
      "outputs": [
        {
          "data": {
            "text/plain": [
              "array([[ 0.,  9.],\n",
              "       [ 0.,  9.],\n",
              "       [ 0., 10.],\n",
              "       [ 0., 10.],\n",
              "       [ 0., 10.],\n",
              "       [ 0., 15.],\n",
              "       [ 0.,  0.],\n",
              "       [ 0.,  0.],\n",
              "       [23., inf],\n",
              "       [10., inf],\n",
              "       [10., 10.]])"
            ]
          },
          "execution_count": 111,
          "metadata": {},
          "output_type": "execute_result"
        }
      ],
      "source": [
        "diag_e0"
      ]
    },
    {
      "cell_type": "code",
      "execution_count": 115,
      "metadata": {
        "colab": {
          "base_uri": "https://localhost:8080/",
          "height": 211
        },
        "id": "YwXDeZ3AOyWg",
        "outputId": "082aa27e-eaa5-4ab4-e6bb-60379e2538cb"
      },
      "outputs": [
        {
          "ename": "AttributeError",
          "evalue": "module 'gudhi' has no attribute 'wasserstein_distance'",
          "output_type": "error",
          "traceback": [
            "\u001b[0;31m---------------------------------------------------------------------------\u001b[0m",
            "\u001b[0;31mAttributeError\u001b[0m                            Traceback (most recent call last)",
            "\u001b[0;32m<ipython-input-115-5df774d730c7>\u001b[0m in \u001b[0;36m<cell line: 1>\u001b[0;34m()\u001b[0m\n\u001b[0;32m----> 1\u001b[0;31m print(gd.wasserstein_distance(diag_e0,diag_e1),\n\u001b[0m\u001b[1;32m      2\u001b[0m \u001b[0mgd\u001b[0m\u001b[0;34m.\u001b[0m\u001b[0mbottleneck_distance\u001b[0m\u001b[0;34m(\u001b[0m\u001b[0mdiag_e0\u001b[0m\u001b[0;34m,\u001b[0m\u001b[0mdiag_e2\u001b[0m\u001b[0;34m)\u001b[0m\u001b[0;34m,\u001b[0m\u001b[0;34m\u001b[0m\u001b[0;34m\u001b[0m\u001b[0m\n\u001b[1;32m      3\u001b[0m \u001b[0mgd\u001b[0m\u001b[0;34m.\u001b[0m\u001b[0mbottleneck_distance\u001b[0m\u001b[0;34m(\u001b[0m\u001b[0mdiag_e0\u001b[0m\u001b[0;34m,\u001b[0m\u001b[0mdiag_e3\u001b[0m\u001b[0;34m)\u001b[0m\u001b[0;34m,\u001b[0m\u001b[0;34m\u001b[0m\u001b[0;34m\u001b[0m\u001b[0m\n\u001b[1;32m      4\u001b[0m \u001b[0mgd\u001b[0m\u001b[0;34m.\u001b[0m\u001b[0mbottleneck_distance\u001b[0m\u001b[0;34m(\u001b[0m\u001b[0mdiag_e1\u001b[0m\u001b[0;34m,\u001b[0m\u001b[0mdiag_e2\u001b[0m\u001b[0;34m)\u001b[0m\u001b[0;34m,\u001b[0m\u001b[0;34m\u001b[0m\u001b[0;34m\u001b[0m\u001b[0m\n\u001b[1;32m      5\u001b[0m \u001b[0mgd\u001b[0m\u001b[0;34m.\u001b[0m\u001b[0mbottleneck_distance\u001b[0m\u001b[0;34m(\u001b[0m\u001b[0mdiag_e1\u001b[0m\u001b[0;34m,\u001b[0m\u001b[0mdiag_e3\u001b[0m\u001b[0;34m)\u001b[0m\u001b[0;34m,\u001b[0m\u001b[0;34m\u001b[0m\u001b[0;34m\u001b[0m\u001b[0m\n",
            "\u001b[0;31mAttributeError\u001b[0m: module 'gudhi' has no attribute 'wasserstein_distance'"
          ]
        }
      ],
      "source": [
        "print(gd.bottleneck_distance(diag_e0,diag_e1),\n",
        "gd.bottleneck_distance(diag_e0,diag_e2),\n",
        "gd.bottleneck_distance(diag_e0,diag_e3),\n",
        "gd.bottleneck_distance(diag_e1,diag_e2),\n",
        "gd.bottleneck_distance(diag_e1,diag_e3),\n",
        "gd.bottleneck_distance(diag_e2,diag_e3))"
      ]
    },
    {
      "cell_type": "code",
      "execution_count": 121,
      "metadata": {
        "colab": {
          "base_uri": "https://localhost:8080/"
        },
        "id": "yxkhh6tRSE2J",
        "outputId": "09f3c280-b068-4a5d-d58f-e4a2a258f607"
      },
      "outputs": [
        {
          "name": "stdout",
          "output_type": "stream",
          "text": [
            "inf inf\n"
          ]
        }
      ],
      "source": [
        "import gudhi.wasserstein\n",
        "\n",
        "print(gudhi.wasserstein.wasserstein_distance(diag_e0,diag_e1,order=1., internal_p=2.),\n",
        "gudhi.wasserstein.wasserstein_distance(diag_e0,diag_e2,order=1., internal_p=2.))\n",
        "# gudhi.wasserstein.wasserstein_distance(diag_e0,diag_e3,order=1., internal_p=2.),\n",
        "# gudhi.wasserstein.wasserstein_distance(diag_e1,diag_e2,order=1., internal_p=2.),\n",
        "# gudhi.wasserstein.wasserstein_distance(diag_e1,diag_e3,order=1., internal_p=2.),\n",
        "# gudhi.wasserstein.wasserstein_distance(diag_e2,diag_e3,order=1., internal_p=2.))"
      ]
    }
  ],
  "metadata": {
    "colab": {
      "provenance": []
    },
    "kernelspec": {
      "display_name": "Python 3",
      "name": "python3"
    },
    "language_info": {
      "codemirror_mode": {
        "name": "ipython",
        "version": 3
      },
      "file_extension": ".py",
      "mimetype": "text/x-python",
      "name": "python",
      "nbconvert_exporter": "python",
      "pygments_lexer": "ipython3",
      "version": "3.11.8"
    }
  },
  "nbformat": 4,
  "nbformat_minor": 0
}
